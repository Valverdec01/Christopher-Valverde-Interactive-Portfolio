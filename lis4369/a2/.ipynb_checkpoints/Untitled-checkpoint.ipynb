{
 "cells": [
  {
   "cell_type": "markdown",
   "id": "b927bcfe",
   "metadata": {},
   "source": [
    "# Developer: Christopher Valverde\n",
    "\n",
    "# Course: LIS4369\n",
    "\n",
    "# Semester: Fall 2022\n",
    "\n",
    "# Program requirements:"
   ]
  },
  {
   "cell_type": "code",
   "execution_count": 1,
   "id": "208ed1f9",
   "metadata": {},
   "outputs": [],
   "source": [
    "def get_requirement():\n",
    "    print(\"Payroll Calculator\")\n",
    "    print(\"\\nProgram Requirements:\\n\"\n",
    "    + \"1. Must use float data type for user input.\\n\"\n",
    "    + \"2. Overtime rate: 1.5 times hourly rate (hours over 40).\\n\"\n",
    "    + \"3. Holiday rate: 2.0 times hourly rate (all holiday hours).\\n\" \n",
    "    + \"4. Must format currency with dollar sign, and round to two decimal places.\\n\" \n",
    "    + \"5. Create at least three functions that are called by the program:\\n\" \n",
    "        + \"\\ta. main(): calls at least two other functions.\\n\"\n",
    "        + \"\\tb. get_requirements(): displays the program requirements.\\n\"\n",
    "        + \"\\tc. calculate_payroll): calculates an individual one-week paycheck.\\n\")"
   ]
  },
  {
   "cell_type": "code",
   "execution_count": 2,
   "id": "0ef5ebc7",
   "metadata": {},
   "outputs": [],
   "source": [
    "def calculate_payroll():\n",
    "# constants to represent base hours, overtime and holiday rates \n",
    "# Note: python doesn't provide true constants\n",
    "    BASE_HOURS = 40\n",
    "    OT_RATE = 1.5       # overtime rate \n",
    "    HOLIDAY_RATE = 2.0  # holiday rate\n",
    "\n",
    "# IPO: Input > Process > Output\n",
    "# get user data\n",
    "    print(\"Input:\")\n",
    "# get hours worked and hourly pay rate\n",
    "    hours = float(input('Enter hours worked: '))\n",
    "    holiday_hours = float(input('Enter holiday hours: '))\n",
    "    pay_rate = float(input('Enter hourly pay rate: '))\n",
    "\n",
    "# Process:\n",
    "# calculations\n",
    "    base_pay = BASE_HOURS * pay_rate\n",
    "    overtime_hours = hours - BASE_HOURS\n",
    "\n",
    "# calculate and display gross pay\n",
    "    if hours > BASE_HOURS:\n",
    "        # calculate gross pay with overtime\n",
    "\n",
    "        # calculate overtime pay \n",
    "        overtime_pay = overtime_hours * pay_rate * OT_RATE\n",
    "\n",
    "        # calculate holiday pay\n",
    "        holiday_pay = holiday_hours * pay_rate * HOLIDAY_RATE\n",
    "\n",
    "        # calculate gross pay\n",
    "        gross_pay = BASE_HOURS * pay_rate + overtime_pay + holiday_pay\n",
    "        print_pay(base_pay, overtime_pay, holiday_pay, gross_pay)\n",
    "    else:\n",
    "        # calculate gross pay without overtime, but include holiday pay\n",
    "        overtime_pay = 0\n",
    "        holiday_pay = holiday_hours * pay_rate * HOLIDAY_RATE\n",
    "        gross_pay = hours * pay_rate + holiday_pay\n",
    "        \n",
    "        #display pay\n",
    "        print_pay(base_pay, overtime_pay, holiday_pay, gross_pay)"
   ]
  },
  {
   "cell_type": "code",
   "execution_count": 3,
   "id": "95195ad4",
   "metadata": {},
   "outputs": [],
   "source": [
    "def print_pay (base_pay, overtime_pay, holiday_pay, gross_pay):\n",
    "    print(\"\\nOutput:\")\n",
    "    print(\"{0:<10} ${1:,.2f}\".format('Base:', base_pay))\n",
    "    print(\"{0:<10} ${1:,.2f}\".format('Overtime:', overtime_pay))\n",
    "    print(\"{0:<10} ${1:,.2f}\".format('Holiday:', holiday_pay)) \n",
    "    print(\"{0:<10} ${1:,.2f}\".format('Gross:', gross_pay))"
   ]
  },
  {
   "cell_type": "code",
   "execution_count": 4,
   "id": "ec4ca519",
   "metadata": {},
   "outputs": [
    {
     "ename": "ModuleNotFoundError",
     "evalue": "No module named 'functions'",
     "output_type": "error",
     "traceback": [
      "\u001b[1;31m---------------------------------------------------------------------------\u001b[0m",
      "\u001b[1;31mModuleNotFoundError\u001b[0m                       Traceback (most recent call last)",
      "Input \u001b[1;32mIn [4]\u001b[0m, in \u001b[0;36m<cell line: 1>\u001b[1;34m()\u001b[0m\n\u001b[1;32m----> 1\u001b[0m \u001b[38;5;28;01mimport\u001b[39;00m \u001b[38;5;21;01mfunctions\u001b[39;00m \u001b[38;5;28;01mas\u001b[39;00m \u001b[38;5;21;01mf\u001b[39;00m\n\u001b[0;32m      4\u001b[0m \u001b[38;5;28;01mdef\u001b[39;00m \u001b[38;5;21mmain\u001b[39m():\n\u001b[0;32m      5\u001b[0m     f\u001b[38;5;241m.\u001b[39mget_requirement()\n",
      "\u001b[1;31mModuleNotFoundError\u001b[0m: No module named 'functions'"
     ]
    }
   ],
   "source": [
    "import functions as f\n",
    "\n",
    "\n",
    "def main():\n",
    "    f.get_requirement()\n",
    "    # f.user_input()\n",
    "    f.calculate_sqft_to_acre()\n",
    "\n",
    "if __name__ == \"__main__\":\n",
    "    main()"
   ]
  },
  {
   "cell_type": "code",
   "execution_count": null,
   "id": "11b0851f",
   "metadata": {},
   "outputs": [],
   "source": []
  }
 ],
 "metadata": {
  "kernelspec": {
   "display_name": "Python 3 (ipykernel)",
   "language": "python",
   "name": "python3"
  },
  "language_info": {
   "codemirror_mode": {
    "name": "ipython",
    "version": 3
   },
   "file_extension": ".py",
   "mimetype": "text/x-python",
   "name": "python",
   "nbconvert_exporter": "python",
   "pygments_lexer": "ipython3",
   "version": "3.9.12"
  }
 },
 "nbformat": 4,
 "nbformat_minor": 5
}
