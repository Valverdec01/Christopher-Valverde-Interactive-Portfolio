{
 "cells": [
  {
   "cell_type": "markdown",
   "id": "6c104779",
   "metadata": {},
   "source": [
    "# Developer: Christopher Valverde\n",
    "\n",
    "# Course: LIS4369\n",
    "\n",
    "# Semester: Fall 2022\n",
    "\n",
    "# Program requirements:"
   ]
  },
  {
   "cell_type": "code",
   "execution_count": 1,
   "id": "24a6cac9",
   "metadata": {},
   "outputs": [],
   "source": [
    "def get_requirement():\n",
    "    print(\"Painting Estimator\")\n",
    "    print(\"\\nProgram Requirements:\\n\"\n",
    "    + \"1. Calculate home interior paint cost (w/o primer) \\n\"\n",
    "    + \"2. Must use float data types.\\n\"\n",
    "    + \"3. Must use SQFT_PER_GALLON constant (350).\\n\"\n",
    "    + \"4. Must use iteration structure (aka \"\"loop\"\").\\n\"\n",
    "    + \"5. Format, right-align numbers, and round to two decimal places.\\n\"\n",
    "    + \"6. Create at least five functions that are called by the program:\\n\"\n",
    "    + \"5. Create at least three functions that are called by the program:\\n\" \n",
    "        + \"\\ta. main(): calls two other functions: get_requirements() and estimate_painting cost(),\\n\"\n",
    "        + \"\\tb. get_requirements(): displays the program requirements.\\n\"\n",
    "        + \"\\tc. estimate_painting_cost(): calculates interior home painting, and calls print functions, \\n\"\n",
    "        + \"\\td. print painting_estimate(): displays painting costs. \\n\"\n",
    "        + \"\\te. print_painting percentage(): displays painting costs percentages.\\n\")\n"
   ]
  },
  {
   "cell_type": "code",
   "execution_count": 2,
   "id": "7aef1d1f",
   "metadata": {},
   "outputs": [],
   "source": [
    "def estimate_painting_cost():\n",
    "    \n",
    "    sqFtGallon = 350.00\n",
    "    print(\"Input: \")\n",
    "    interior = float(input('Enter total interior sqft: '))\n",
    "    gallonPrice = float (input('Enter price per gallon paint: '))\n",
    "    hourlyRate = float(input('Enter hourly painting rate per sq ft: '))\n",
    "    numGallon = interior / sqFtGallon\n",
    "    print_painting_estimate(interior, sqFtGallon, numGallon, gallonPrice, hourlyRate)\n",
    "\n",
    "    print_painting_percentage(interior, sqFtGallon, numGallon, gallonPrice, hourlyRate)"
   ]
  },
  {
   "cell_type": "code",
   "execution_count": 3,
   "id": "14b2bdc8",
   "metadata": {},
   "outputs": [],
   "source": [
    "def print_painting_estimate(sqFtTotal, sqFtGallon, numGallon, paintGallon, labor):\n",
    "    print(\"\\nOutput: \")\n",
    "    print(\"Item\" + \"{0:>31}\". format(\"Amount\"))\n",
    "    print(\"{0:<10} {1:>10,.2f}\". format('Total sq ft:\\t\\t', sqFtTotal))\n",
    "    print(\"{0:<10} {1:>10,.2f}\".format('Sq Ft per Gallon: it', sqFtGallon))\n",
    "    print(\"{0:<10} {1:>10,.2f}\". format( 'Number of Gallons:\\t', numGallon))\n",
    "    print(\"{0:<10} ${1:>9,.2f}\". format('Paint per Gallon:\\t', paintGallon))\n",
    "    print(\"{0:<10} ${1:>9,.2f}\". format('Labor per Sq Ft:\\t', labor))"
   ]
  },
  {
   "cell_type": "code",
   "execution_count": 4,
   "id": "6201e2ac",
   "metadata": {},
   "outputs": [],
   "source": [
    "def print_painting_percentage(sqFtTotal, SqFtGallon, numGallon, paintGallon, labor):\n",
    "    totalPercent = 100.00\n",
    "    paint = numGallon * paintGallon\n",
    "    laborCost = labor * sqFtTotal\n",
    "    total = paint + laborCost\n",
    "    paintPercent = (paint / total ) * 100 \n",
    "    laborPercent = (laborCost / total ) * 100\n",
    "\n",
    "    print(\"\\nCost\\t\\t Amount\\t Percentage \") \n",
    "    print(\"{0:<10} ${1:>10,.2f} {2:>10,.2f}%\". format('Paint:\\t', paint, paintPercent))\n",
    "    print(\"{0:<10} ${1:>10,.2f} {2:>10,.2f}%\". format('Labor:\\t', laborCost, laborPercent)) \n",
    "    print(\"{0:<10} ${1:>10,.2f} {2:>10,.2f}%\". format('Total:\\t', total, totalPercent))"
   ]
  },
  {
   "cell_type": "code",
   "execution_count": 5,
   "id": "b731c2be",
   "metadata": {},
   "outputs": [],
   "source": [
    "def main():\n",
    "    get_requirement()\n",
    "\n",
    "    estimate_painting_cost()\n",
    "    choice = str(input('Estimate another paint job? (y/n): '))\n",
    "\n",
    "    while choice == 'y':\n",
    "        estimate_painting_cost()\n",
    "        choice = str(input('Estimate another paint job? (y/n): ')) \n",
    "    else:\n",
    "\n",
    "        print(\"\\nThank you for using our Paint Estimator!\")\n",
    "    if __name__ == \"__main__\":\n",
    "        main()\n"
   ]
  },
  {
   "cell_type": "code",
   "execution_count": 6,
   "id": "f11e22a1",
   "metadata": {},
   "outputs": [
    {
     "name": "stdout",
     "output_type": "stream",
     "text": [
      "Painting Estimator\n",
      "\n",
      "Program Requirements:\n",
      "1. Calculate home interior paint cost (w/o primer) \n",
      "2. Must use float data types.\n",
      "3. Must use SQFT_PER_GALLON constant (350).\n",
      "4. Must use iteration structure (aka loop).\n",
      "5. Format, right-align numbers, and round to two decimal places.\n",
      "6. Create at least five functions that are called by the program:\n",
      "5. Create at least three functions that are called by the program:\n",
      "\ta. main(): calls two other functions: get_requirements() and estimate_painting cost(),\n",
      "\tb. get_requirements(): displays the program requirements.\n",
      "\tc. estimate_painting_cost(): calculates interior home painting, and calls print functions, \n",
      "\td. print painting_estimate(): displays painting costs. \n",
      "\te. print_painting percentage(): displays painting costs percentages.\n",
      "\n",
      "Input: \n",
      "Enter total interior sqft: 2500\n",
      "Enter price per gallon paint: 30\n",
      "Enter hourly painting rate per sq ft: 2\n",
      "\n",
      "Output: \n",
      "Item                         Amount\n",
      "Total sq ft:\t\t   2,500.00\n",
      "Sq Ft per Gallon: it     350.00\n",
      "Number of Gallons:\t       7.14\n",
      "Paint per Gallon:\t $    30.00\n",
      "Labor per Sq Ft:\t $     2.00\n",
      "\n",
      "Cost\t\t Amount\t Percentage \n",
      "Paint:\t    $    214.29       4.11%\n",
      "Labor:\t    $  5,000.00      95.89%\n",
      "Total:\t    $  5,214.29     100.00%\n",
      "Estimate another paint job? (y/n): y\n",
      "Input: \n",
      "Enter total interior sqft: 3000\n",
      "Enter price per gallon paint: 40\n",
      "Enter hourly painting rate per sq ft: 2\n",
      "\n",
      "Output: \n",
      "Item                         Amount\n",
      "Total sq ft:\t\t   3,000.00\n",
      "Sq Ft per Gallon: it     350.00\n",
      "Number of Gallons:\t       8.57\n",
      "Paint per Gallon:\t $    40.00\n",
      "Labor per Sq Ft:\t $     2.00\n",
      "\n",
      "Cost\t\t Amount\t Percentage \n",
      "Paint:\t    $    342.86       5.41%\n",
      "Labor:\t    $  6,000.00      94.59%\n",
      "Total:\t    $  6,342.86     100.00%\n",
      "Estimate another paint job? (y/n): n\n",
      "\n",
      "Thank you for using our Paint Estimator!\n",
      "\n",
      "Please see our web site: https://www.linkedin.com/in/christopher-valverde-695b4721b/\n"
     ]
    }
   ],
   "source": [
    "import functions as f\n",
    "\n",
    "def main():\n",
    "    f.get_requirement()\n",
    "    f. estimate_painting_cost()\n",
    "    choice = str(input('Estimate another paint job? (y/n): '))\n",
    "\n",
    "    while choice == 'y':\n",
    "        f.estimate_painting_cost()\n",
    "        choice = str(input('Estimate another paint job? (y/n): ')) \n",
    "    else:\n",
    "\n",
    "        print(\"\\nThank you for using our Paint Estimator!\")\n",
    "        print(\"\\nPlease see our web site: https://www.linkedin.com/in/christopher-valverde-695b4721b/\")\n",
    "\n",
    "if __name__ == \"__main__\":\n",
    "    main()"
   ]
  },
  {
   "cell_type": "code",
   "execution_count": null,
   "id": "ba1ea167",
   "metadata": {},
   "outputs": [],
   "source": []
  }
 ],
 "metadata": {
  "kernelspec": {
   "display_name": "Python 3 (ipykernel)",
   "language": "python",
   "name": "python3"
  },
  "language_info": {
   "codemirror_mode": {
    "name": "ipython",
    "version": 3
   },
   "file_extension": ".py",
   "mimetype": "text/x-python",
   "name": "python",
   "nbconvert_exporter": "python",
   "pygments_lexer": "ipython3",
   "version": "3.9.12"
  }
 },
 "nbformat": 4,
 "nbformat_minor": 5
}
