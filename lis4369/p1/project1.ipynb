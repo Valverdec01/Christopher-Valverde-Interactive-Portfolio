{
 "cells": [
  {
   "cell_type": "code",
   "execution_count": 1,
   "id": "59a054c3",
   "metadata": {},
   "outputs": [],
   "source": [
    "import datetime as dt\n",
    "import pandas_datareader as pdr\n",
    "import matplotlib.pyplot as plt\n",
    "from matplotlib import style\n"
   ]
  },
  {
   "cell_type": "code",
   "execution_count": 2,
   "id": "f19a8956",
   "metadata": {},
   "outputs": [],
   "source": [
    "def get_requirements():\n",
    "    print(\"Data Analysis 1\")\n",
    "    print(\"\\nProgram Requirements:\\n\"\n",
    "    + \"1. Run demo.py.\\n\"\n",
    "    + \"2. If errors, more than likely missing installations.\\n\"\n",
    "    + \"3. Test Python package installer.\\n\"\n",
    "    + \"4. Research how to do the following installations:\\n\"\n",
    "    + \"\\ta. pandas (only if missing)\\n\"\n",
    "    + \"\\tb. pandas-datareader (only if missing)\\n\"\n",
    "    + \"\\tc. matplotlib (only if missing)\\n\"\n",
    "    + \"5. Create at least three functions that are called by the program:\"\n",
    "    + \"\\ta. main(): calls at least two other functions.\\n\"\n",
    "    + \"\\tb. get_requirements(): displays the program requirements.\\n\"\n",
    "    + \"\\tc. data_analysis_1(): displays the following data.\\n\")"
   ]
  },
  {
   "cell_type": "code",
   "execution_count": 3,
   "id": "bf634d3e",
   "metadata": {},
   "outputs": [],
   "source": [
    "def data_analysis_1():\n",
    "    start = dt.datetime(2010, 1, 1)\n",
    "    end = dt.datetime.now()\n",
    "\n",
    "    df = pdr.DataReader([\"DJIA\", \"SP500\"], \"fred\", start, end)\n",
    "\n",
    "    print(\"\\nPrint number of records: \")\n",
    "\n",
    "    print(df.columns)\n",
    "\n",
    "    print(\"\\nPrint data frame: \")\n",
    "    print(df)\n",
    "\n",
    "    print(\"\\nPrint first five lines: \")\n",
    "    print(df.head(5))\n",
    "\n",
    "    print(\"\\nPrint last five lines: \")\n",
    "    print(df.tail(5))\n",
    "\n",
    "    print(\"\\nPrint first 2 lines: \")\n",
    "    print(df.head(2))\n",
    "\n",
    "    print(\"\\nPrint last 2 lines: \")\n",
    "    print(df.tail(2))\n",
    "\n",
    "    style.use('ggplot')\n",
    "\n",
    "    df['DJIA'].plot()\n",
    "    df['SP500'].plot()\n",
    "    plt.legend()\n",
    "    plt.show()"
   ]
  },
  {
   "cell_type": "code",
   "execution_count": 4,
   "id": "bbdee730",
   "metadata": {},
   "outputs": [
    {
     "name": "stdout",
     "output_type": "stream",
     "text": [
      "Data Analysis 1\n",
      "\n",
      "Program Requirements:\n",
      "1. Run demo.py.\n",
      "2. If errors, more than likely missing installations.\n",
      "3. Test Python package installer.\n",
      "4. Research how to do the following installations:\n",
      "\ta. pandas (only if missing)\n",
      "\tb. pandas-datareader (only if missing)\n",
      "\tc. matplotlib (only if missing)\n",
      "5. Create at least three functions that are called by the program:\ta. main(): calls at least two other functions.\n",
      "\tb. get_requirements(): displays the program requirements.\n",
      "\tc. data_analysis_1(): displays the following data.\n",
      "\n",
      "\n",
      "Print number of records: \n",
      "Index(['DJIA', 'SP500'], dtype='object')\n",
      "\n",
      "Print data frame: \n",
      "                DJIA    SP500\n",
      "DATE                         \n",
      "2012-10-31  13096.46  1412.16\n",
      "2012-11-01  13232.62  1427.59\n",
      "2012-11-02  13093.16  1414.20\n",
      "2012-11-05  13112.44  1417.26\n",
      "2012-11-06  13245.68  1428.39\n",
      "...              ...      ...\n",
      "2022-10-20  30333.59  3665.78\n",
      "2022-10-21  31082.56  3752.75\n",
      "2022-10-24  31499.62  3797.34\n",
      "2022-10-25  31836.74  3859.11\n",
      "2022-10-26  31839.11  3830.60\n",
      "\n",
      "[2606 rows x 2 columns]\n",
      "\n",
      "Print first five lines: \n",
      "                DJIA    SP500\n",
      "DATE                         \n",
      "2012-10-31  13096.46  1412.16\n",
      "2012-11-01  13232.62  1427.59\n",
      "2012-11-02  13093.16  1414.20\n",
      "2012-11-05  13112.44  1417.26\n",
      "2012-11-06  13245.68  1428.39\n",
      "\n",
      "Print last five lines: \n",
      "                DJIA    SP500\n",
      "DATE                         \n",
      "2022-10-20  30333.59  3665.78\n",
      "2022-10-21  31082.56  3752.75\n",
      "2022-10-24  31499.62  3797.34\n",
      "2022-10-25  31836.74  3859.11\n",
      "2022-10-26  31839.11  3830.60\n",
      "\n",
      "Print first 2 lines: \n",
      "                DJIA    SP500\n",
      "DATE                         \n",
      "2012-10-31  13096.46  1412.16\n",
      "2012-11-01  13232.62  1427.59\n",
      "\n",
      "Print last 2 lines: \n",
      "                DJIA    SP500\n",
      "DATE                         \n",
      "2022-10-25  31836.74  3859.11\n",
      "2022-10-26  31839.11  3830.60\n"
     ]
    },
    {
     "data": {
      "image/png": "[encoded data removed]",
      "text/plain": [
       "<Figure size 432x288 with 1 Axes>"
      ]
     },
     "metadata": {},
     "output_type": "display_data"
    }
   ],
   "source": [
    "import demo as f \n",
    "\n",
    "def main():\n",
    "    f.get_requirements()\n",
    "    f.data_analysis_1()\n",
    "    \n",
    "if __name__ == \"__main__\":\n",
    "    main()"
   ]
  },
  {
   "cell_type": "code",
   "execution_count": null,
   "id": "5997928d",
   "metadata": {},
   "outputs": [],
   "source": []
  }
 ],
 "metadata": {
  "kernelspec": {
   "display_name": "Python 3 (ipykernel)",
   "language": "python",
   "name": "python3"
  },
  "language_info": {
   "codemirror_mode": {
    "name": "ipython",
    "version": 3
   },
   "file_extension": ".py",
   "mimetype": "text/x-python",
   "name": "python",
   "nbconvert_exporter": "python",
   "pygments_lexer": "ipython3",
   "version": "3.9.12"
  }
 },
 "nbformat": 4,
 "nbformat_minor": 5
}
