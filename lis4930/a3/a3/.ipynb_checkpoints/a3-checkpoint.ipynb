{
 "cells": [
  {
   "cell_type": "markdown",
   "id": "59541ab3-3cb1-407e-96a7-ef2e5fecfd75",
   "metadata": {},
   "source": [
    "# Assignment 3\n",
    "\n",
    "## Developer: Christopher Valverde\n",
    "\n",
    "### Program Requirements (data analysis and visualization steps):\n",
    "\n",
    "1. Get\n",
    "2. Clean\n",
    "3. Prepare\n",
    "4. Analyze\n",
    "5. Display/Visualize (preparation)"
   ]
  },
  {
   "cell_type": "code",
   "execution_count": 1,
   "id": "2edc67f3-daa4-4333-974d-4eed47c0352f",
   "metadata": {},
   "outputs": [],
   "source": [
    "#1 import pandas\n",
    "import pandas as pd "
   ]
  },
  {
   "cell_type": "code",
   "execution_count": 2,
   "id": "7260716a-a426-4662-9491-64093b0a906c",
   "metadata": {},
   "outputs": [],
   "source": [
    "#2\n",
    "mortality_data = pd.read_pickle('mortality_cleaned.pkl')"
   ]
  },
  {
   "cell_type": "code",
   "execution_count": 3,
   "id": "7bbac9ef-45c4-4f75-bc19-b6c25487f7d3",
   "metadata": {},
   "outputs": [
    {
     "name": "stdout",
     "output_type": "stream",
     "text": [
      "     Year     AgeGroup  DeathRate\n",
      "0    1900    1-4 Years     1983.8\n",
      "1    1901    1-4 Years     1695.0\n",
      "2    1902    1-4 Years     1655.7\n",
      "3    1903    1-4 Years     1542.1\n",
      "4    1904    1-4 Years     1591.5\n",
      "..    ...          ...        ...\n",
      "471  2014  15-19 Years       45.5\n",
      "472  2015  15-19 Years       48.3\n",
      "473  2016  15-19 Years       51.2\n",
      "474  2017  15-19 Years       51.5\n",
      "475  2018  15-19 Years       49.2\n",
      "\n",
      "[476 rows x 3 columns]\n"
     ]
    }
   ],
   "source": [
    "#3\n",
    "print(mortality_data)"
   ]
  },
  {
   "cell_type": "code",
   "execution_count": 4,
   "id": "49cdf1ac-c7ad-49f6-bf6e-36fe1f255ea3",
   "metadata": {},
   "outputs": [
    {
     "name": "stdout",
     "output_type": "stream",
     "text": [
      "<class 'pandas.core.frame.DataFrame'>\n",
      "RangeIndex: 476 entries, 0 to 475\n",
      "Data columns (total 3 columns):\n",
      " #   Column     Non-Null Count  Dtype  \n",
      "---  ------     --------------  -----  \n",
      " 0   Year       476 non-null    int64  \n",
      " 1   AgeGroup   476 non-null    object \n",
      " 2   DeathRate  476 non-null    float64\n",
      "dtypes: float64(1), int64(1), object(1)\n",
      "memory usage: 11.3+ KB\n"
     ]
    }
   ],
   "source": [
    "#4\n",
    "mortality_data.info()"
   ]
  },
  {
   "cell_type": "code",
   "execution_count": 5,
   "id": "bfa30ca1-f21a-4532-8002-94bb0ae4f5cf",
   "metadata": {},
   "outputs": [
    {
     "name": "stdout",
     "output_type": "stream",
     "text": [
      "Index:  RangeIndex(start=0, stop=476, step=1)\n",
      "Columns: Index(['Year', 'AgeGroup', 'DeathRate'], dtype='object')\n",
      "Size:  1428\n",
      "Shape:  (476, 3)\n"
     ]
    }
   ],
   "source": [
    "#5\n",
    "print(\"Index: \", mortality_data.index)\n",
    "print(\"Columns:\", mortality_data.columns)\n",
    "print(\"Size: \", mortality_data.size)\n",
    "print(\"Shape: \", mortality_data.shape)"
   ]
  },
  {
   "cell_type": "code",
   "execution_count": 6,
   "id": "6d8bca5b-0069-419a-a855-4dad412bab26",
   "metadata": {},
   "outputs": [
    {
     "name": "stdout",
     "output_type": "stream",
     "text": [
      "     Year   AgeGroup  DeathRate\n",
      "231  2012  5-9 Years       11.4\n",
      "237  2018  5-9 Years       11.5\n",
      "229  2010  5-9 Years       11.5\n"
     ]
    }
   ],
   "source": [
    "#6\n",
    "print(mortality_data.sort_values('DeathRate').head(3))"
   ]
  },
  {
   "cell_type": "code",
   "execution_count": 7,
   "id": "de460ee0-477c-45e9-83cb-1e027e8f8b3f",
   "metadata": {},
   "outputs": [
    {
     "name": "stdout",
     "output_type": "stream",
     "text": [
      "   Year   AgeGroup  DeathRate\n",
      "0  1900  1-4 Years     1983.8\n",
      "1  1901  1-4 Years     1695.0\n",
      "2  1902  1-4 Years     1655.7\n"
     ]
    }
   ],
   "source": [
    "#7\n",
    "print(mortality_data.sort_values('DeathRate', ascending=False).head(3))"
   ]
  },
  {
   "cell_type": "code",
   "execution_count": 8,
   "id": "5b959eb2-7246-45fa-bccc-99233225b049",
   "metadata": {},
   "outputs": [
    {
     "name": "stdout",
     "output_type": "stream",
     "text": [
      "     Year     AgeGroup  DeathRate\n",
      "238  1900  10-14 Years      298.3\n",
      "119  1900    5-9 Years      466.1\n",
      "357  1900  15-19 Years      484.8\n"
     ]
    }
   ],
   "source": [
    "#8\n",
    "print(mortality_data.sort_values(['Year','DeathRate']).head(3))"
   ]
  },
  {
   "cell_type": "code",
   "execution_count": 9,
   "id": "653459be-42b1-4ffc-b96b-77d3dd7e9ccf",
   "metadata": {},
   "outputs": [
    {
     "name": "stdout",
     "output_type": "stream",
     "text": [
      "     Year   AgeGroup  DeathRate\n",
      "231  2012  5-9 Years       11.4\n",
      "229  2010  5-9 Years       11.5\n",
      "233  2014  5-9 Years       11.5\n"
     ]
    }
   ],
   "source": [
    "#9\n",
    "print(mortality_data.sort_values(['DeathRate', 'Year']).head(3))"
   ]
  },
  {
   "cell_type": "code",
   "execution_count": 10,
   "id": "c2a960a2-069c-4283-b89f-80b3b2af038e",
   "metadata": {},
   "outputs": [
    {
     "name": "stdout",
     "output_type": "stream",
     "text": [
      "     Year     AgeGroup  DeathRate\n",
      "0    1900    1-4 Years     1983.8\n",
      "357  1900  15-19 Years      484.8\n",
      "119  1900    5-9 Years      466.1\n",
      "238  1900  10-14 Years      298.3\n",
      "1    1901    1-4 Years     1695.0\n"
     ]
    }
   ],
   "source": [
    "#10\n",
    "print(mortality_data.sort_values(['Year','DeathRate'],\n",
    "ascending=[True,False]).head())"
   ]
  },
  {
   "cell_type": "code",
   "execution_count": 11,
   "id": "7c5090ec-2d52-4c21-9a96-f43f7831afd6",
   "metadata": {},
   "outputs": [
    {
     "name": "stdout",
     "output_type": "stream",
     "text": [
      "   Year   AgeGroup  DeathRate\n",
      "0  1900  1-4 Years     1983.8\n",
      "1  1901  1-4 Years     1695.0\n",
      "2  1902  1-4 Years     1655.7\n",
      "4  1904  1-4 Years     1591.5\n",
      "6  1906  1-4 Years     1580.0\n"
     ]
    }
   ],
   "source": [
    "#11\n",
    "print(mortality_data.sort_values(['DeathRate','Year'],\n",
    "ascending=[False,True]).head())"
   ]
  },
  {
   "cell_type": "code",
   "execution_count": 12,
   "id": "08df2ec1-0285-4b43-8d36-abebabe363f8",
   "metadata": {},
   "outputs": [
    {
     "name": "stdout",
     "output_type": "stream",
     "text": [
      "192.92415966386554\n"
     ]
    }
   ],
   "source": [
    "#12\n",
    "print(mortality_data.DeathRate.mean())"
   ]
  },
  {
   "cell_type": "code",
   "execution_count": 13,
   "id": "2b0c7135-a9a2-4f5d-a27a-e2d28a1e48fb",
   "metadata": {},
   "outputs": [
    {
     "name": "stdout",
     "output_type": "stream",
     "text": [
      "DeathRate meand: 192.92415966386554\n"
     ]
    }
   ],
   "source": [
    "#13\n",
    "print(\"DeathRate meand: \" + str(mortality_data.DeathRate.mean()))"
   ]
  },
  {
   "cell_type": "code",
   "execution_count": 14,
   "id": "0004b1e7-a07c-4370-bf2f-c3fd4a16a887",
   "metadata": {},
   "outputs": [
    {
     "name": "stdout",
     "output_type": "stream",
     "text": [
      "DeathRate meand: 192.92\n"
     ]
    }
   ],
   "source": [
    "#14\n",
    "print(\"DeathRate meand: \"\n",
    " + str(format(mortality_data.DeathRate.mean(), \".2f\")))"
   ]
  },
  {
   "cell_type": "code",
   "execution_count": 15,
   "id": "1e398e52-a82c-499a-bbb0-4df28ac1ae07",
   "metadata": {},
   "outputs": [
    {
     "name": "stdout",
     "output_type": "stream",
     "text": [
      "AgeGroup     5-9 Years\n",
      "DeathRate       1983.8\n",
      "dtype: object\n"
     ]
    }
   ],
   "source": [
    "#15\n",
    "print(mortality_data[['AgeGroup','DeathRate']].max())"
   ]
  },
  {
   "cell_type": "code",
   "execution_count": 16,
   "id": "09859e09-5338-4c9e-9457-e0649c027c0e",
   "metadata": {},
   "outputs": [
    {
     "name": "stdout",
     "output_type": "stream",
     "text": [
      "Year         476\n",
      "AgeGroup     476\n",
      "DeathRate    476\n",
      "dtype: int64\n"
     ]
    }
   ],
   "source": [
    "#16\n",
    "print(mortality_data.count())"
   ]
  },
  {
   "cell_type": "code",
   "execution_count": 17,
   "id": "83b63885-fe3d-49c0-abdb-04bc84207ee2",
   "metadata": {},
   "outputs": [
    {
     "name": "stdout",
     "output_type": "stream",
     "text": [
      "       Year\n",
      "0.5  1959.0\n",
      "Year    1959.0\n",
      "dtype: float64\n"
     ]
    }
   ],
   "source": [
    "#17\n",
    "print(mortality_data[['Year']].quantile([.5]))\n",
    "print(mortality_data[['Year']].median())"
   ]
  },
  {
   "cell_type": "code",
   "execution_count": 18,
   "id": "61f2d562-5d06-4f56-a8eb-c80854e9e5c8",
   "metadata": {},
   "outputs": [
    {
     "name": "stdout",
     "output_type": "stream",
     "text": [
      "       Year  DeathRate\n",
      "0.5  1959.0       89.5\n",
      "Year         1959.0\n",
      "DeathRate      89.5\n",
      "dtype: float64\n"
     ]
    }
   ],
   "source": [
    "#18\n",
    "print(mortality_data[['Year','DeathRate']].quantile([.5]))\n",
    "print(mortality_data[['Year','DeathRate']].median())"
   ]
  },
  {
   "cell_type": "code",
   "execution_count": 19,
   "id": "8bf5445b-454f-40b1-af69-b0fe82779b3f",
   "metadata": {},
   "outputs": [
    {
     "name": "stdout",
     "output_type": "stream",
     "text": [
      "       Year  DeathRate\n",
      "0.1  1911.5      21.50\n",
      "0.9  2006.5     430.85\n"
     ]
    }
   ],
   "source": [
    "#19\n",
    "print(mortality_data.quantile([.1,.9], numeric_only=True))"
   ]
  },
  {
   "cell_type": "code",
   "execution_count": 20,
   "id": "d98787d8-1875-4030-b7dc-a706f2c934a1",
   "metadata": {},
   "outputs": [
    {
     "name": "stdout",
     "output_type": "stream",
     "text": [
      "0       1983.8\n",
      "1       3678.8\n",
      "2       5334.5\n",
      "3       6876.6\n",
      "4       8468.1\n",
      "        ...   \n",
      "471    91631.7\n",
      "472    91680.0\n",
      "473    91731.2\n",
      "474    91782.7\n",
      "475    91831.9\n",
      "Name: DeathRate, Length: 476, dtype: float64\n"
     ]
    }
   ],
   "source": [
    "#20\n",
    "print(mortality_data['DeathRate'].cumsum())"
   ]
  },
  {
   "cell_type": "code",
   "execution_count": 21,
   "id": "69863b1a-c4cc-4c5d-8691-5ac34dcdf6a9",
   "metadata": {},
   "outputs": [
    {
     "name": "stdout",
     "output_type": "stream",
     "text": [
      "0    1983.8\n",
      "1    1695.0\n",
      "2    1655.7\n",
      "3    1542.1\n",
      "4    1591.5\n",
      "Name: DeathRate, dtype: float64\n"
     ]
    }
   ],
   "source": [
    "#21\n",
    "print(mortality_data['DeathRate'].head(5))"
   ]
  },
  {
   "cell_type": "code",
   "execution_count": 22,
   "id": "f054db78-0c35-4857-ba0b-8b727689cdb6",
   "metadata": {},
   "outputs": [],
   "source": [
    "#22\n",
    "mortality_data['Mean'] = mortality_data.DeathRate.mean()\n",
    "mortality_data['MeanCentered'] = \\\n",
    "mortality_data.DeathRate - mortality_data.DeathRate.mean()"
   ]
  },
  {
   "cell_type": "code",
   "execution_count": 23,
   "id": "4b09cac1-c48a-4931-91b3-6b72ed694886",
   "metadata": {},
   "outputs": [
    {
     "name": "stdout",
     "output_type": "stream",
     "text": [
      "     Year     AgeGroup  DeathRate       Mean  MeanCentered\n",
      "0    1900    1-4 Years     1983.8  192.92416    1790.87584\n",
      "1    1901    1-4 Years     1695.0  192.92416    1502.07584\n",
      "2    1902    1-4 Years     1655.7  192.92416    1462.77584\n",
      "3    1903    1-4 Years     1542.1  192.92416    1349.17584\n",
      "4    1904    1-4 Years     1591.5  192.92416    1398.57584\n",
      "..    ...          ...        ...        ...           ...\n",
      "471  2014  15-19 Years       45.5  192.92416    -147.42416\n",
      "472  2015  15-19 Years       48.3  192.92416    -144.62416\n",
      "473  2016  15-19 Years       51.2  192.92416    -141.72416\n",
      "474  2017  15-19 Years       51.5  192.92416    -141.42416\n",
      "475  2018  15-19 Years       49.2  192.92416    -143.72416\n",
      "\n",
      "[476 rows x 5 columns]\n"
     ]
    }
   ],
   "source": [
    "#23\n",
    "print(mortality_data)"
   ]
  },
  {
   "cell_type": "code",
   "execution_count": 24,
   "id": "392cd3f1-27d6-459d-a117-3dd1646feae3",
   "metadata": {},
   "outputs": [],
   "source": [
    "#24\n",
    "mortality_data.AgeGroup.replace(\n",
    "    {'1-4 Years':'01-04 Years','5-9 Years':'05-09 Years'},\n",
    "    inplace=True\n",
    ")"
   ]
  },
  {
   "cell_type": "code",
   "execution_count": 25,
   "id": "82dede60-27bf-4370-bf73-6836183b8942",
   "metadata": {},
   "outputs": [],
   "source": [
    "#25\n",
    "mortality_data.to_pickle('mortality_prepped.pkl')"
   ]
  },
  {
   "cell_type": "code",
   "execution_count": 26,
   "id": "92e19691-8062-4f06-b9f6-54a91a9c9b4e",
   "metadata": {},
   "outputs": [
    {
     "data": {
      "text/html": [
       "<div>\n",
       "<style scoped>\n",
       "    .dataframe tbody tr th:only-of-type {\n",
       "        vertical-align: middle;\n",
       "    }\n",
       "\n",
       "    .dataframe tbody tr th {\n",
       "        vertical-align: top;\n",
       "    }\n",
       "\n",
       "    .dataframe thead th {\n",
       "        text-align: right;\n",
       "    }\n",
       "</style>\n",
       "<table border=\"1\" class=\"dataframe\">\n",
       "  <thead>\n",
       "    <tr style=\"text-align: right;\">\n",
       "      <th></th>\n",
       "      <th>Year</th>\n",
       "      <th>AgeGroup</th>\n",
       "      <th>DeathRate</th>\n",
       "      <th>Mean</th>\n",
       "      <th>MeanCentered</th>\n",
       "    </tr>\n",
       "  </thead>\n",
       "  <tbody>\n",
       "    <tr>\n",
       "      <th>0</th>\n",
       "      <td>1900</td>\n",
       "      <td>01-04 Years</td>\n",
       "      <td>1983.8</td>\n",
       "      <td>192.92416</td>\n",
       "      <td>1790.87584</td>\n",
       "    </tr>\n",
       "    <tr>\n",
       "      <th>1</th>\n",
       "      <td>1901</td>\n",
       "      <td>01-04 Years</td>\n",
       "      <td>1695.0</td>\n",
       "      <td>192.92416</td>\n",
       "      <td>1502.07584</td>\n",
       "    </tr>\n",
       "    <tr>\n",
       "      <th>2</th>\n",
       "      <td>1902</td>\n",
       "      <td>01-04 Years</td>\n",
       "      <td>1655.7</td>\n",
       "      <td>192.92416</td>\n",
       "      <td>1462.77584</td>\n",
       "    </tr>\n",
       "    <tr>\n",
       "      <th>3</th>\n",
       "      <td>1903</td>\n",
       "      <td>01-04 Years</td>\n",
       "      <td>1542.1</td>\n",
       "      <td>192.92416</td>\n",
       "      <td>1349.17584</td>\n",
       "    </tr>\n",
       "    <tr>\n",
       "      <th>4</th>\n",
       "      <td>1904</td>\n",
       "      <td>01-04 Years</td>\n",
       "      <td>1591.5</td>\n",
       "      <td>192.92416</td>\n",
       "      <td>1398.57584</td>\n",
       "    </tr>\n",
       "  </tbody>\n",
       "</table>\n",
       "</div>"
      ],
      "text/plain": [
       "   Year     AgeGroup  DeathRate       Mean  MeanCentered\n",
       "0  1900  01-04 Years     1983.8  192.92416    1790.87584\n",
       "1  1901  01-04 Years     1695.0  192.92416    1502.07584\n",
       "2  1902  01-04 Years     1655.7  192.92416    1462.77584\n",
       "3  1903  01-04 Years     1542.1  192.92416    1349.17584\n",
       "4  1904  01-04 Years     1591.5  192.92416    1398.57584"
      ]
     },
     "execution_count": 26,
     "metadata": {},
     "output_type": "execute_result"
    }
   ],
   "source": [
    "#26\n",
    "mortality_data = pd.read_pickle('mortality_prepped.pkl')\n",
    "mortality_data.head()"
   ]
  },
  {
   "cell_type": "code",
   "execution_count": 27,
   "id": "d06e72af-963e-4500-8dc0-951bc103fd70",
   "metadata": {},
   "outputs": [
    {
     "data": {
      "text/html": [
       "<div>\n",
       "<style scoped>\n",
       "    .dataframe tbody tr th:only-of-type {\n",
       "        vertical-align: middle;\n",
       "    }\n",
       "\n",
       "    .dataframe tbody tr th {\n",
       "        vertical-align: top;\n",
       "    }\n",
       "\n",
       "    .dataframe thead th {\n",
       "        text-align: right;\n",
       "    }\n",
       "</style>\n",
       "<table border=\"1\" class=\"dataframe\">\n",
       "  <thead>\n",
       "    <tr style=\"text-align: right;\">\n",
       "      <th></th>\n",
       "      <th>Year</th>\n",
       "      <th>AgeGroup</th>\n",
       "      <th>DeathRate</th>\n",
       "      <th>Mean</th>\n",
       "      <th>MeanCentered</th>\n",
       "    </tr>\n",
       "  </thead>\n",
       "  <tbody>\n",
       "    <tr>\n",
       "      <th>0</th>\n",
       "      <td>1900</td>\n",
       "      <td>01-04 Years</td>\n",
       "      <td>1983.8</td>\n",
       "      <td>192.92416</td>\n",
       "      <td>1790.87584</td>\n",
       "    </tr>\n",
       "    <tr>\n",
       "      <th>1</th>\n",
       "      <td>1901</td>\n",
       "      <td>01-04 Years</td>\n",
       "      <td>1695.0</td>\n",
       "      <td>192.92416</td>\n",
       "      <td>1502.07584</td>\n",
       "    </tr>\n",
       "  </tbody>\n",
       "</table>\n",
       "</div>"
      ],
      "text/plain": [
       "   Year     AgeGroup  DeathRate       Mean  MeanCentered\n",
       "0  1900  01-04 Years     1983.8  192.92416    1790.87584\n",
       "1  1901  01-04 Years     1695.0  192.92416    1502.07584"
      ]
     },
     "execution_count": 27,
     "metadata": {},
     "output_type": "execute_result"
    }
   ],
   "source": [
    "#27\n",
    "mortality_data.head(2)"
   ]
  },
  {
   "cell_type": "code",
   "execution_count": 28,
   "id": "9a2b059c-fa0c-4fc8-bb1e-18961db466ab",
   "metadata": {},
   "outputs": [
    {
     "data": {
      "text/html": [
       "<div>\n",
       "<style scoped>\n",
       "    .dataframe tbody tr th:only-of-type {\n",
       "        vertical-align: middle;\n",
       "    }\n",
       "\n",
       "    .dataframe tbody tr th {\n",
       "        vertical-align: top;\n",
       "    }\n",
       "\n",
       "    .dataframe thead th {\n",
       "        text-align: right;\n",
       "    }\n",
       "</style>\n",
       "<table border=\"1\" class=\"dataframe\">\n",
       "  <thead>\n",
       "    <tr style=\"text-align: right;\">\n",
       "      <th></th>\n",
       "      <th>AgeGroup</th>\n",
       "      <th>DeathRate</th>\n",
       "      <th>Mean</th>\n",
       "      <th>MeanCentered</th>\n",
       "    </tr>\n",
       "    <tr>\n",
       "      <th>Year</th>\n",
       "      <th></th>\n",
       "      <th></th>\n",
       "      <th></th>\n",
       "      <th></th>\n",
       "    </tr>\n",
       "  </thead>\n",
       "  <tbody>\n",
       "    <tr>\n",
       "      <th>1900</th>\n",
       "      <td>01-04 Years</td>\n",
       "      <td>1983.8</td>\n",
       "      <td>192.92416</td>\n",
       "      <td>1790.87584</td>\n",
       "    </tr>\n",
       "    <tr>\n",
       "      <th>1901</th>\n",
       "      <td>01-04 Years</td>\n",
       "      <td>1695.0</td>\n",
       "      <td>192.92416</td>\n",
       "      <td>1502.07584</td>\n",
       "    </tr>\n",
       "  </tbody>\n",
       "</table>\n",
       "</div>"
      ],
      "text/plain": [
       "         AgeGroup  DeathRate       Mean  MeanCentered\n",
       "Year                                                 \n",
       "1900  01-04 Years     1983.8  192.92416    1790.87584\n",
       "1901  01-04 Years     1695.0  192.92416    1502.07584"
      ]
     },
     "execution_count": 28,
     "metadata": {},
     "output_type": "execute_result"
    }
   ],
   "source": [
    "#28\n",
    "mortality_data = mortality_data.set_index('Year')\n",
    "mortality_data.head(2)"
   ]
  },
  {
   "cell_type": "code",
   "execution_count": 29,
   "id": "2e1fdc77-68ec-4d44-9523-69d0a10efbe3",
   "metadata": {},
   "outputs": [
    {
     "data": {
      "text/html": [
       "<div>\n",
       "<style scoped>\n",
       "    .dataframe tbody tr th:only-of-type {\n",
       "        vertical-align: middle;\n",
       "    }\n",
       "\n",
       "    .dataframe tbody tr th {\n",
       "        vertical-align: top;\n",
       "    }\n",
       "\n",
       "    .dataframe thead th {\n",
       "        text-align: right;\n",
       "    }\n",
       "</style>\n",
       "<table border=\"1\" class=\"dataframe\">\n",
       "  <thead>\n",
       "    <tr style=\"text-align: right;\">\n",
       "      <th></th>\n",
       "      <th>Year</th>\n",
       "      <th>AgeGroup</th>\n",
       "      <th>DeathRate</th>\n",
       "      <th>Mean</th>\n",
       "      <th>MeanCentered</th>\n",
       "    </tr>\n",
       "  </thead>\n",
       "  <tbody>\n",
       "    <tr>\n",
       "      <th>0</th>\n",
       "      <td>1900</td>\n",
       "      <td>01-04 Years</td>\n",
       "      <td>1983.8</td>\n",
       "      <td>192.92416</td>\n",
       "      <td>1790.87584</td>\n",
       "    </tr>\n",
       "    <tr>\n",
       "      <th>1</th>\n",
       "      <td>1901</td>\n",
       "      <td>01-04 Years</td>\n",
       "      <td>1695.0</td>\n",
       "      <td>192.92416</td>\n",
       "      <td>1502.07584</td>\n",
       "    </tr>\n",
       "  </tbody>\n",
       "</table>\n",
       "</div>"
      ],
      "text/plain": [
       "   Year     AgeGroup  DeathRate       Mean  MeanCentered\n",
       "0  1900  01-04 Years     1983.8  192.92416    1790.87584\n",
       "1  1901  01-04 Years     1695.0  192.92416    1502.07584"
      ]
     },
     "execution_count": 29,
     "metadata": {},
     "output_type": "execute_result"
    }
   ],
   "source": [
    "#29\n",
    "mortality_data.reset_index(inplace=True)\n",
    "mortality_data.head(2)"
   ]
  },
  {
   "cell_type": "code",
   "execution_count": 30,
   "id": "b55bb44a-39a3-4d86-af50-c815bc7d8118",
   "metadata": {},
   "outputs": [
    {
     "data": {
      "text/html": [
       "<div>\n",
       "<style scoped>\n",
       "    .dataframe tbody tr th:only-of-type {\n",
       "        vertical-align: middle;\n",
       "    }\n",
       "\n",
       "    .dataframe tbody tr th {\n",
       "        vertical-align: top;\n",
       "    }\n",
       "\n",
       "    .dataframe thead th {\n",
       "        text-align: right;\n",
       "    }\n",
       "</style>\n",
       "<table border=\"1\" class=\"dataframe\">\n",
       "  <thead>\n",
       "    <tr style=\"text-align: right;\">\n",
       "      <th></th>\n",
       "      <th></th>\n",
       "      <th>DeathRate</th>\n",
       "      <th>Mean</th>\n",
       "      <th>MeanCentered</th>\n",
       "    </tr>\n",
       "    <tr>\n",
       "      <th>Year</th>\n",
       "      <th>AgeGroup</th>\n",
       "      <th></th>\n",
       "      <th></th>\n",
       "      <th></th>\n",
       "    </tr>\n",
       "  </thead>\n",
       "  <tbody>\n",
       "    <tr>\n",
       "      <th>1900</th>\n",
       "      <th>01-04 Years</th>\n",
       "      <td>1983.8</td>\n",
       "      <td>192.92416</td>\n",
       "      <td>1790.87584</td>\n",
       "    </tr>\n",
       "    <tr>\n",
       "      <th>1901</th>\n",
       "      <th>01-04 Years</th>\n",
       "      <td>1695.0</td>\n",
       "      <td>192.92416</td>\n",
       "      <td>1502.07584</td>\n",
       "    </tr>\n",
       "  </tbody>\n",
       "</table>\n",
       "</div>"
      ],
      "text/plain": [
       "                  DeathRate       Mean  MeanCentered\n",
       "Year AgeGroup                                       \n",
       "1900 01-04 Years     1983.8  192.92416    1790.87584\n",
       "1901 01-04 Years     1695.0  192.92416    1502.07584"
      ]
     },
     "execution_count": 30,
     "metadata": {},
     "output_type": "execute_result"
    }
   ],
   "source": [
    "#30\n",
    "mortality_data = mortality_data.set_index(\n",
    "['Year', 'AgeGroup'], verify_integrity=True)\n",
    "mortality_data.head(2)"
   ]
  },
  {
   "cell_type": "code",
   "execution_count": 31,
   "id": "c05b9916-a763-4556-bc81-5d4f1aa388d4",
   "metadata": {},
   "outputs": [
    {
     "data": {
      "text/html": [
       "<div>\n",
       "<style scoped>\n",
       "    .dataframe tbody tr th:only-of-type {\n",
       "        vertical-align: middle;\n",
       "    }\n",
       "\n",
       "    .dataframe tbody tr th {\n",
       "        vertical-align: top;\n",
       "    }\n",
       "\n",
       "    .dataframe thead th {\n",
       "        text-align: right;\n",
       "    }\n",
       "</style>\n",
       "<table border=\"1\" class=\"dataframe\">\n",
       "  <thead>\n",
       "    <tr style=\"text-align: right;\">\n",
       "      <th></th>\n",
       "      <th>Year</th>\n",
       "      <th>AgeGroup</th>\n",
       "      <th>DeathRate</th>\n",
       "      <th>Mean</th>\n",
       "      <th>MeanCentered</th>\n",
       "    </tr>\n",
       "  </thead>\n",
       "  <tbody>\n",
       "    <tr>\n",
       "      <th>0</th>\n",
       "      <td>1900</td>\n",
       "      <td>01-04 Years</td>\n",
       "      <td>1983.8</td>\n",
       "      <td>192.92416</td>\n",
       "      <td>1790.87584</td>\n",
       "    </tr>\n",
       "    <tr>\n",
       "      <th>1</th>\n",
       "      <td>1901</td>\n",
       "      <td>01-04 Years</td>\n",
       "      <td>1695.0</td>\n",
       "      <td>192.92416</td>\n",
       "      <td>1502.07584</td>\n",
       "    </tr>\n",
       "  </tbody>\n",
       "</table>\n",
       "</div>"
      ],
      "text/plain": [
       "   Year     AgeGroup  DeathRate       Mean  MeanCentered\n",
       "0  1900  01-04 Years     1983.8  192.92416    1790.87584\n",
       "1  1901  01-04 Years     1695.0  192.92416    1502.07584"
      ]
     },
     "execution_count": 31,
     "metadata": {},
     "output_type": "execute_result"
    }
   ],
   "source": [
    "#31\n",
    "mortality_data.reset_index(inplace=True)\n",
    "mortality_data.head(2)"
   ]
  },
  {
   "cell_type": "code",
   "execution_count": 32,
   "id": "fc654fbe-c05e-42ab-967c-eb11bee2af66",
   "metadata": {},
   "outputs": [
    {
     "data": {
      "text/html": [
       "<div>\n",
       "<style scoped>\n",
       "    .dataframe tbody tr th:only-of-type {\n",
       "        vertical-align: middle;\n",
       "    }\n",
       "\n",
       "    .dataframe tbody tr th {\n",
       "        vertical-align: top;\n",
       "    }\n",
       "\n",
       "    .dataframe thead tr th {\n",
       "        text-align: left;\n",
       "    }\n",
       "\n",
       "    .dataframe thead tr:last-of-type th {\n",
       "        text-align: right;\n",
       "    }\n",
       "</style>\n",
       "<table border=\"1\" class=\"dataframe\">\n",
       "  <thead>\n",
       "    <tr>\n",
       "      <th></th>\n",
       "      <th colspan=\"4\" halign=\"left\">DeathRate</th>\n",
       "      <th colspan=\"4\" halign=\"left\">Mean</th>\n",
       "      <th colspan=\"4\" halign=\"left\">MeanCentered</th>\n",
       "    </tr>\n",
       "    <tr>\n",
       "      <th>AgeGroup</th>\n",
       "      <th>01-04 Years</th>\n",
       "      <th>05-09 Years</th>\n",
       "      <th>10-14 Years</th>\n",
       "      <th>15-19 Years</th>\n",
       "      <th>01-04 Years</th>\n",
       "      <th>05-09 Years</th>\n",
       "      <th>10-14 Years</th>\n",
       "      <th>15-19 Years</th>\n",
       "      <th>01-04 Years</th>\n",
       "      <th>05-09 Years</th>\n",
       "      <th>10-14 Years</th>\n",
       "      <th>15-19 Years</th>\n",
       "    </tr>\n",
       "    <tr>\n",
       "      <th>Year</th>\n",
       "      <th></th>\n",
       "      <th></th>\n",
       "      <th></th>\n",
       "      <th></th>\n",
       "      <th></th>\n",
       "      <th></th>\n",
       "      <th></th>\n",
       "      <th></th>\n",
       "      <th></th>\n",
       "      <th></th>\n",
       "      <th></th>\n",
       "      <th></th>\n",
       "    </tr>\n",
       "  </thead>\n",
       "  <tbody>\n",
       "    <tr>\n",
       "      <th>1900</th>\n",
       "      <td>1983.8</td>\n",
       "      <td>466.1</td>\n",
       "      <td>298.3</td>\n",
       "      <td>484.8</td>\n",
       "      <td>192.92416</td>\n",
       "      <td>192.92416</td>\n",
       "      <td>192.92416</td>\n",
       "      <td>192.92416</td>\n",
       "      <td>1790.87584</td>\n",
       "      <td>273.17584</td>\n",
       "      <td>105.37584</td>\n",
       "      <td>291.87584</td>\n",
       "    </tr>\n",
       "    <tr>\n",
       "      <th>1901</th>\n",
       "      <td>1695.0</td>\n",
       "      <td>427.6</td>\n",
       "      <td>273.6</td>\n",
       "      <td>454.4</td>\n",
       "      <td>192.92416</td>\n",
       "      <td>192.92416</td>\n",
       "      <td>192.92416</td>\n",
       "      <td>192.92416</td>\n",
       "      <td>1502.07584</td>\n",
       "      <td>234.67584</td>\n",
       "      <td>80.67584</td>\n",
       "      <td>261.47584</td>\n",
       "    </tr>\n",
       "    <tr>\n",
       "      <th>1902</th>\n",
       "      <td>1655.7</td>\n",
       "      <td>403.3</td>\n",
       "      <td>252.5</td>\n",
       "      <td>421.5</td>\n",
       "      <td>192.92416</td>\n",
       "      <td>192.92416</td>\n",
       "      <td>192.92416</td>\n",
       "      <td>192.92416</td>\n",
       "      <td>1462.77584</td>\n",
       "      <td>210.37584</td>\n",
       "      <td>59.57584</td>\n",
       "      <td>228.57584</td>\n",
       "    </tr>\n",
       "  </tbody>\n",
       "</table>\n",
       "</div>"
      ],
      "text/plain": [
       "           DeathRate                                            Mean  \\\n",
       "AgeGroup 01-04 Years 05-09 Years 10-14 Years 15-19 Years 01-04 Years   \n",
       "Year                                                                   \n",
       "1900          1983.8       466.1       298.3       484.8   192.92416   \n",
       "1901          1695.0       427.6       273.6       454.4   192.92416   \n",
       "1902          1655.7       403.3       252.5       421.5   192.92416   \n",
       "\n",
       "                                             MeanCentered              \\\n",
       "AgeGroup 05-09 Years 10-14 Years 15-19 Years  01-04 Years 05-09 Years   \n",
       "Year                                                                    \n",
       "1900       192.92416   192.92416   192.92416   1790.87584   273.17584   \n",
       "1901       192.92416   192.92416   192.92416   1502.07584   234.67584   \n",
       "1902       192.92416   192.92416   192.92416   1462.77584   210.37584   \n",
       "\n",
       "                                  \n",
       "AgeGroup 10-14 Years 15-19 Years  \n",
       "Year                              \n",
       "1900       105.37584   291.87584  \n",
       "1901        80.67584   261.47584  \n",
       "1902        59.57584   228.57584  "
      ]
     },
     "execution_count": 32,
     "metadata": {},
     "output_type": "execute_result"
    }
   ],
   "source": [
    "#32\n",
    "mortality_wide = mortality_data.pivot(index=\"Year\",columns=\"AgeGroup\")\n",
    "mortality_wide.head(3)"
   ]
  },
  {
   "cell_type": "code",
   "execution_count": 33,
   "id": "1a077650-70af-4e2b-83da-8739d6e04fb0",
   "metadata": {},
   "outputs": [
    {
     "data": {
      "text/html": [
       "<div>\n",
       "<style scoped>\n",
       "    .dataframe tbody tr th:only-of-type {\n",
       "        vertical-align: middle;\n",
       "    }\n",
       "\n",
       "    .dataframe tbody tr th {\n",
       "        vertical-align: top;\n",
       "    }\n",
       "\n",
       "    .dataframe thead th {\n",
       "        text-align: right;\n",
       "    }\n",
       "</style>\n",
       "<table border=\"1\" class=\"dataframe\">\n",
       "  <thead>\n",
       "    <tr style=\"text-align: right;\">\n",
       "      <th>AgeGroup</th>\n",
       "      <th>01-04 Years</th>\n",
       "      <th>05-09 Years</th>\n",
       "      <th>10-14 Years</th>\n",
       "      <th>15-19 Years</th>\n",
       "    </tr>\n",
       "    <tr>\n",
       "      <th>Year</th>\n",
       "      <th></th>\n",
       "      <th></th>\n",
       "      <th></th>\n",
       "      <th></th>\n",
       "    </tr>\n",
       "  </thead>\n",
       "  <tbody>\n",
       "    <tr>\n",
       "      <th>1900</th>\n",
       "      <td>1983.8</td>\n",
       "      <td>466.1</td>\n",
       "      <td>298.3</td>\n",
       "      <td>484.8</td>\n",
       "    </tr>\n",
       "    <tr>\n",
       "      <th>1901</th>\n",
       "      <td>1695.0</td>\n",
       "      <td>427.6</td>\n",
       "      <td>273.6</td>\n",
       "      <td>454.4</td>\n",
       "    </tr>\n",
       "    <tr>\n",
       "      <th>1902</th>\n",
       "      <td>1655.7</td>\n",
       "      <td>403.3</td>\n",
       "      <td>252.5</td>\n",
       "      <td>421.5</td>\n",
       "    </tr>\n",
       "  </tbody>\n",
       "</table>\n",
       "</div>"
      ],
      "text/plain": [
       "AgeGroup  01-04 Years  05-09 Years  10-14 Years  15-19 Years\n",
       "Year                                                        \n",
       "1900           1983.8        466.1        298.3        484.8\n",
       "1901           1695.0        427.6        273.6        454.4\n",
       "1902           1655.7        403.3        252.5        421.5"
      ]
     },
     "execution_count": 33,
     "metadata": {},
     "output_type": "execute_result"
    }
   ],
   "source": [
    "#33\n",
    "mortality_wide = mortality_data.pivot(index=\"Year\",columns=\"AgeGroup\", values=\"DeathRate\")\n",
    "mortality_wide.head(3)"
   ]
  },
  {
   "cell_type": "code",
   "execution_count": 34,
   "id": "4f64fba6-5f75-44bd-8b9e-5860aa350023",
   "metadata": {},
   "outputs": [],
   "source": [
    "#34\n",
    "mortality_wide.to_excel('mortality_wide.xlsx')"
   ]
  },
  {
   "cell_type": "code",
   "execution_count": 35,
   "id": "1c80814c-f863-43f9-9a6b-bbcd0426f79a",
   "metadata": {},
   "outputs": [
    {
     "name": "stdout",
     "output_type": "stream",
     "text": [
      "   Year  01-04 Years  05-09 Years  10-14 Years  15-19 Years\n",
      "0  1900       1983.8        466.1        298.3        484.8\n",
      "1  1901       1695.0        427.6        273.6        454.4\n",
      "2  1902       1655.7        403.3        252.5        421.5\n",
      "3  1903       1542.1        414.7        268.2        434.1\n"
     ]
    }
   ],
   "source": [
    "#35\n",
    "mortality_wide = pd.read_excel('mortality_wide.xlsx')\n",
    "print(mortality_wide.head(4))"
   ]
  },
  {
   "cell_type": "code",
   "execution_count": 36,
   "id": "3de77ad3-28a3-448b-8cb9-6c751972d42c",
   "metadata": {},
   "outputs": [],
   "source": [
    "#36\n",
    "mortality_wide.to_pickle('mortality_wide.pkl')"
   ]
  },
  {
   "cell_type": "code",
   "execution_count": 37,
   "id": "c284583c-b4e8-45d3-97db-eaee8d0b3e51",
   "metadata": {},
   "outputs": [
    {
     "data": {
      "text/plain": [
       "<bound method NDFrame.head of      Year  01-04 Years  05-09 Years  10-14 Years  15-19 Years\n",
       "0    1900       1983.8        466.1        298.3        484.8\n",
       "1    1901       1695.0        427.6        273.6        454.4\n",
       "2    1902       1655.7        403.3        252.5        421.5\n",
       "3    1903       1542.1        414.7        268.2        434.1\n",
       "4    1904       1591.5        425.0        305.2        471.4\n",
       "..    ...          ...          ...          ...          ...\n",
       "114  2014         24.0         11.5         14.0         45.5\n",
       "115  2015         24.9         11.7         14.6         48.3\n",
       "116  2016         25.3         12.2         14.6         51.2\n",
       "117  2017         24.3         11.6         15.5         51.5\n",
       "118  2018         24.0         11.5         14.9         49.2\n",
       "\n",
       "[119 rows x 5 columns]>"
      ]
     },
     "execution_count": 37,
     "metadata": {},
     "output_type": "execute_result"
    }
   ],
   "source": [
    "#37\n",
    "mortality_wide = pd.read_pickle('mortality_wide.pkl')\n",
    "mortality_wide.head"
   ]
  },
  {
   "cell_type": "code",
   "execution_count": 38,
   "id": "25550af9-3bd7-47f0-96a0-492cceee4617",
   "metadata": {},
   "outputs": [
    {
     "data": {
      "text/html": [
       "<div>\n",
       "<style scoped>\n",
       "    .dataframe tbody tr th:only-of-type {\n",
       "        vertical-align: middle;\n",
       "    }\n",
       "\n",
       "    .dataframe tbody tr th {\n",
       "        vertical-align: top;\n",
       "    }\n",
       "\n",
       "    .dataframe thead th {\n",
       "        text-align: right;\n",
       "    }\n",
       "</style>\n",
       "<table border=\"1\" class=\"dataframe\">\n",
       "  <thead>\n",
       "    <tr style=\"text-align: right;\">\n",
       "      <th></th>\n",
       "      <th>Year</th>\n",
       "      <th>AgeGroup</th>\n",
       "      <th>DeathRate</th>\n",
       "    </tr>\n",
       "  </thead>\n",
       "  <tbody>\n",
       "    <tr>\n",
       "      <th>0</th>\n",
       "      <td>1900</td>\n",
       "      <td>01-04 Years</td>\n",
       "      <td>1983.8</td>\n",
       "    </tr>\n",
       "    <tr>\n",
       "      <th>1</th>\n",
       "      <td>1901</td>\n",
       "      <td>01-04 Years</td>\n",
       "      <td>1695.0</td>\n",
       "    </tr>\n",
       "    <tr>\n",
       "      <th>2</th>\n",
       "      <td>1902</td>\n",
       "      <td>01-04 Years</td>\n",
       "      <td>1655.7</td>\n",
       "    </tr>\n",
       "    <tr>\n",
       "      <th>3</th>\n",
       "      <td>1903</td>\n",
       "      <td>01-04 Years</td>\n",
       "      <td>1542.1</td>\n",
       "    </tr>\n",
       "  </tbody>\n",
       "</table>\n",
       "</div>"
      ],
      "text/plain": [
       "   Year     AgeGroup  DeathRate\n",
       "0  1900  01-04 Years     1983.8\n",
       "1  1901  01-04 Years     1695.0\n",
       "2  1902  01-04 Years     1655.7\n",
       "3  1903  01-04 Years     1542.1"
      ]
     },
     "execution_count": 38,
     "metadata": {},
     "output_type": "execute_result"
    }
   ],
   "source": [
    "#38\n",
    "mortality_long = mortality_wide.melt(\n",
    "id_vars='Year',\n",
    "value_vars=['01-04 Years', '05-09 Years'],\n",
    "var_name='AgeGroup',\n",
    "value_name='DeathRate')\n",
    "mortality_long.head(4)\n"
   ]
  },
  {
   "cell_type": "code",
   "execution_count": 39,
   "id": "11bbe44a-0bfa-4feb-af6b-dff8bd7dd1b6",
   "metadata": {},
   "outputs": [
    {
     "name": "stdout",
     "output_type": "stream",
     "text": [
      "     Year     AgeGroup  DeathRate\n",
      "0    1900  01-04 Years     1983.8\n",
      "1    1901  01-04 Years     1695.0\n",
      "2    1902  01-04 Years     1655.7\n",
      "..    ...          ...        ...\n",
      "235  2016  05-09 Years       12.2\n",
      "236  2017  05-09 Years       11.6\n",
      "237  2018  05-09 Years       11.5\n",
      "\n",
      "[238 rows x 3 columns]\n"
     ]
    }
   ],
   "source": [
    "#39\n",
    "with pd.option_context(\n",
    "    'display.max_rows', 6,\n",
    "    'display.max_columns', None):\n",
    "    print(mortality_long)"
   ]
  },
  {
   "cell_type": "code",
   "execution_count": 40,
   "id": "aa6c5612-2e7a-4e97-9829-717313346c79",
   "metadata": {},
   "outputs": [
    {
     "data": {
      "text/html": [
       "<div>\n",
       "<style scoped>\n",
       "    .dataframe tbody tr th:only-of-type {\n",
       "        vertical-align: middle;\n",
       "    }\n",
       "\n",
       "    .dataframe tbody tr th {\n",
       "        vertical-align: top;\n",
       "    }\n",
       "\n",
       "    .dataframe thead th {\n",
       "        text-align: right;\n",
       "    }\n",
       "</style>\n",
       "<table border=\"1\" class=\"dataframe\">\n",
       "  <thead>\n",
       "    <tr style=\"text-align: right;\">\n",
       "      <th></th>\n",
       "      <th>Year</th>\n",
       "      <th>AgeGroup</th>\n",
       "      <th>DeathRate</th>\n",
       "      <th>Mean</th>\n",
       "      <th>MeanCentered</th>\n",
       "    </tr>\n",
       "  </thead>\n",
       "  <tbody>\n",
       "    <tr>\n",
       "      <th>0</th>\n",
       "      <td>1900</td>\n",
       "      <td>01-04 Years</td>\n",
       "      <td>1983.8</td>\n",
       "      <td>192.92416</td>\n",
       "      <td>1790.87584</td>\n",
       "    </tr>\n",
       "    <tr>\n",
       "      <th>1</th>\n",
       "      <td>1901</td>\n",
       "      <td>01-04 Years</td>\n",
       "      <td>1695.0</td>\n",
       "      <td>192.92416</td>\n",
       "      <td>1502.07584</td>\n",
       "    </tr>\n",
       "    <tr>\n",
       "      <th>2</th>\n",
       "      <td>1902</td>\n",
       "      <td>01-04 Years</td>\n",
       "      <td>1655.7</td>\n",
       "      <td>192.92416</td>\n",
       "      <td>1462.77584</td>\n",
       "    </tr>\n",
       "    <tr>\n",
       "      <th>3</th>\n",
       "      <td>1903</td>\n",
       "      <td>01-04 Years</td>\n",
       "      <td>1542.1</td>\n",
       "      <td>192.92416</td>\n",
       "      <td>1349.17584</td>\n",
       "    </tr>\n",
       "    <tr>\n",
       "      <th>4</th>\n",
       "      <td>1904</td>\n",
       "      <td>01-04 Years</td>\n",
       "      <td>1591.5</td>\n",
       "      <td>192.92416</td>\n",
       "      <td>1398.57584</td>\n",
       "    </tr>\n",
       "  </tbody>\n",
       "</table>\n",
       "</div>"
      ],
      "text/plain": [
       "   Year     AgeGroup  DeathRate       Mean  MeanCentered\n",
       "0  1900  01-04 Years     1983.8  192.92416    1790.87584\n",
       "1  1901  01-04 Years     1695.0  192.92416    1502.07584\n",
       "2  1902  01-04 Years     1655.7  192.92416    1462.77584\n",
       "3  1903  01-04 Years     1542.1  192.92416    1349.17584\n",
       "4  1904  01-04 Years     1591.5  192.92416    1398.57584"
      ]
     },
     "execution_count": 40,
     "metadata": {},
     "output_type": "execute_result"
    }
   ],
   "source": [
    "#40\n",
    "mortality_data.head()"
   ]
  },
  {
   "cell_type": "code",
   "execution_count": 41,
   "id": "65534914-2380-415c-b959-e136ea182b27",
   "metadata": {},
   "outputs": [
    {
     "data": {
      "text/html": [
       "<div>\n",
       "<style scoped>\n",
       "    .dataframe tbody tr th:only-of-type {\n",
       "        vertical-align: middle;\n",
       "    }\n",
       "\n",
       "    .dataframe tbody tr th {\n",
       "        vertical-align: top;\n",
       "    }\n",
       "\n",
       "    .dataframe thead th {\n",
       "        text-align: right;\n",
       "    }\n",
       "</style>\n",
       "<table border=\"1\" class=\"dataframe\">\n",
       "  <thead>\n",
       "    <tr style=\"text-align: right;\">\n",
       "      <th></th>\n",
       "      <th>Year</th>\n",
       "      <th>DeathRate</th>\n",
       "      <th>Mean</th>\n",
       "      <th>MeanCentered</th>\n",
       "    </tr>\n",
       "    <tr>\n",
       "      <th>AgeGroup</th>\n",
       "      <th></th>\n",
       "      <th></th>\n",
       "      <th></th>\n",
       "      <th></th>\n",
       "    </tr>\n",
       "  </thead>\n",
       "  <tbody>\n",
       "    <tr>\n",
       "      <th>01-04 Years</th>\n",
       "      <td>1959.0</td>\n",
       "      <td>383.226050</td>\n",
       "      <td>192.92416</td>\n",
       "      <td>190.301891</td>\n",
       "    </tr>\n",
       "    <tr>\n",
       "      <th>05-09 Years</th>\n",
       "      <td>1959.0</td>\n",
       "      <td>117.326050</td>\n",
       "      <td>192.92416</td>\n",
       "      <td>-75.598109</td>\n",
       "    </tr>\n",
       "    <tr>\n",
       "      <th>10-14 Years</th>\n",
       "      <td>1959.0</td>\n",
       "      <td>93.769748</td>\n",
       "      <td>192.92416</td>\n",
       "      <td>-99.154412</td>\n",
       "    </tr>\n",
       "    <tr>\n",
       "      <th>15-19 Years</th>\n",
       "      <td>1959.0</td>\n",
       "      <td>177.374790</td>\n",
       "      <td>192.92416</td>\n",
       "      <td>-15.549370</td>\n",
       "    </tr>\n",
       "  </tbody>\n",
       "</table>\n",
       "</div>"
      ],
      "text/plain": [
       "               Year   DeathRate       Mean  MeanCentered\n",
       "AgeGroup                                                \n",
       "01-04 Years  1959.0  383.226050  192.92416    190.301891\n",
       "05-09 Years  1959.0  117.326050  192.92416    -75.598109\n",
       "10-14 Years  1959.0   93.769748  192.92416    -99.154412\n",
       "15-19 Years  1959.0  177.374790  192.92416    -15.549370"
      ]
     },
     "execution_count": 41,
     "metadata": {},
     "output_type": "execute_result"
    }
   ],
   "source": [
    "#41\n",
    "mortality_data.groupby('AgeGroup').mean()"
   ]
  },
  {
   "cell_type": "code",
   "execution_count": 42,
   "id": "bc4f7f15-eae4-4abb-bf7a-904160b91ac6",
   "metadata": {},
   "outputs": [
    {
     "data": {
      "text/html": [
       "<div>\n",
       "<style scoped>\n",
       "    .dataframe tbody tr th:only-of-type {\n",
       "        vertical-align: middle;\n",
       "    }\n",
       "\n",
       "    .dataframe tbody tr th {\n",
       "        vertical-align: top;\n",
       "    }\n",
       "\n",
       "    .dataframe thead th {\n",
       "        text-align: right;\n",
       "    }\n",
       "</style>\n",
       "<table border=\"1\" class=\"dataframe\">\n",
       "  <thead>\n",
       "    <tr style=\"text-align: right;\">\n",
       "      <th></th>\n",
       "      <th>DeathRate</th>\n",
       "      <th>Mean</th>\n",
       "      <th>MeanCentered</th>\n",
       "    </tr>\n",
       "    <tr>\n",
       "      <th>Year</th>\n",
       "      <th></th>\n",
       "      <th></th>\n",
       "      <th></th>\n",
       "    </tr>\n",
       "  </thead>\n",
       "  <tbody>\n",
       "    <tr>\n",
       "      <th>1900</th>\n",
       "      <td>475.45</td>\n",
       "      <td>192.92416</td>\n",
       "      <td>282.52584</td>\n",
       "    </tr>\n",
       "    <tr>\n",
       "      <th>1901</th>\n",
       "      <td>441.00</td>\n",
       "      <td>192.92416</td>\n",
       "      <td>248.07584</td>\n",
       "    </tr>\n",
       "    <tr>\n",
       "      <th>1902</th>\n",
       "      <td>412.40</td>\n",
       "      <td>192.92416</td>\n",
       "      <td>219.47584</td>\n",
       "    </tr>\n",
       "    <tr>\n",
       "      <th>1903</th>\n",
       "      <td>424.40</td>\n",
       "      <td>192.92416</td>\n",
       "      <td>231.47584</td>\n",
       "    </tr>\n",
       "  </tbody>\n",
       "</table>\n",
       "</div>"
      ],
      "text/plain": [
       "      DeathRate       Mean  MeanCentered\n",
       "Year                                    \n",
       "1900     475.45  192.92416     282.52584\n",
       "1901     441.00  192.92416     248.07584\n",
       "1902     412.40  192.92416     219.47584\n",
       "1903     424.40  192.92416     231.47584"
      ]
     },
     "execution_count": 42,
     "metadata": {},
     "output_type": "execute_result"
    }
   ],
   "source": [
    "#42\n",
    "mortality_data.groupby('Year').median(numeric_only=True).head(4)"
   ]
  },
  {
   "cell_type": "code",
   "execution_count": 43,
   "id": "6b38b0ca-abce-4d5c-bad3-1e6e2004e09e",
   "metadata": {},
   "outputs": [
    {
     "data": {
      "text/html": [
       "<div>\n",
       "<style scoped>\n",
       "    .dataframe tbody tr th:only-of-type {\n",
       "        vertical-align: middle;\n",
       "    }\n",
       "\n",
       "    .dataframe tbody tr th {\n",
       "        vertical-align: top;\n",
       "    }\n",
       "\n",
       "    .dataframe thead th {\n",
       "        text-align: right;\n",
       "    }\n",
       "</style>\n",
       "<table border=\"1\" class=\"dataframe\">\n",
       "  <thead>\n",
       "    <tr style=\"text-align: right;\">\n",
       "      <th></th>\n",
       "      <th></th>\n",
       "      <th>DeathRate</th>\n",
       "      <th>Mean</th>\n",
       "      <th>MeanCentered</th>\n",
       "    </tr>\n",
       "    <tr>\n",
       "      <th>Year</th>\n",
       "      <th>AgeGroup</th>\n",
       "      <th></th>\n",
       "      <th></th>\n",
       "      <th></th>\n",
       "    </tr>\n",
       "  </thead>\n",
       "  <tbody>\n",
       "    <tr>\n",
       "      <th rowspan=\"4\" valign=\"top\">1900</th>\n",
       "      <th>01-04 Years</th>\n",
       "      <td>1</td>\n",
       "      <td>1</td>\n",
       "      <td>1</td>\n",
       "    </tr>\n",
       "    <tr>\n",
       "      <th>05-09 Years</th>\n",
       "      <td>1</td>\n",
       "      <td>1</td>\n",
       "      <td>1</td>\n",
       "    </tr>\n",
       "    <tr>\n",
       "      <th>10-14 Years</th>\n",
       "      <td>1</td>\n",
       "      <td>1</td>\n",
       "      <td>1</td>\n",
       "    </tr>\n",
       "    <tr>\n",
       "      <th>15-19 Years</th>\n",
       "      <td>1</td>\n",
       "      <td>1</td>\n",
       "      <td>1</td>\n",
       "    </tr>\n",
       "    <tr>\n",
       "      <th>1901</th>\n",
       "      <th>01-04 Years</th>\n",
       "      <td>1</td>\n",
       "      <td>1</td>\n",
       "      <td>1</td>\n",
       "    </tr>\n",
       "  </tbody>\n",
       "</table>\n",
       "</div>"
      ],
      "text/plain": [
       "                  DeathRate  Mean  MeanCentered\n",
       "Year AgeGroup                                  \n",
       "1900 01-04 Years          1     1             1\n",
       "     05-09 Years          1     1             1\n",
       "     10-14 Years          1     1             1\n",
       "     15-19 Years          1     1             1\n",
       "1901 01-04 Years          1     1             1"
      ]
     },
     "execution_count": 43,
     "metadata": {},
     "output_type": "execute_result"
    }
   ],
   "source": [
    "#43\n",
    "mortality_data.groupby(['Year', 'AgeGroup']).count().head()"
   ]
  },
  {
   "cell_type": "code",
   "execution_count": 44,
   "id": "21e2e3da-3ef8-450f-bb0c-1cb76f6bb5ca",
   "metadata": {},
   "outputs": [
    {
     "data": {
      "text/html": [
       "<div>\n",
       "<style scoped>\n",
       "    .dataframe tbody tr th:only-of-type {\n",
       "        vertical-align: middle;\n",
       "    }\n",
       "\n",
       "    .dataframe tbody tr th {\n",
       "        vertical-align: top;\n",
       "    }\n",
       "\n",
       "    .dataframe thead th {\n",
       "        text-align: right;\n",
       "    }\n",
       "</style>\n",
       "<table border=\"1\" class=\"dataframe\">\n",
       "  <thead>\n",
       "    <tr style=\"text-align: right;\">\n",
       "      <th></th>\n",
       "      <th>count</th>\n",
       "      <th>mean</th>\n",
       "      <th>std</th>\n",
       "      <th>min</th>\n",
       "      <th>25%</th>\n",
       "      <th>50%</th>\n",
       "      <th>75%</th>\n",
       "      <th>max</th>\n",
       "    </tr>\n",
       "    <tr>\n",
       "      <th>AgeGroup</th>\n",
       "      <th></th>\n",
       "      <th></th>\n",
       "      <th></th>\n",
       "      <th></th>\n",
       "      <th></th>\n",
       "      <th></th>\n",
       "      <th></th>\n",
       "      <th></th>\n",
       "    </tr>\n",
       "  </thead>\n",
       "  <tbody>\n",
       "    <tr>\n",
       "      <th>01-04 Years</th>\n",
       "      <td>119.0</td>\n",
       "      <td>383.226050</td>\n",
       "      <td>500.454211</td>\n",
       "      <td>24.0</td>\n",
       "      <td>50.65</td>\n",
       "      <td>109.1</td>\n",
       "      <td>577.30</td>\n",
       "      <td>1983.8</td>\n",
       "    </tr>\n",
       "    <tr>\n",
       "      <th>05-09 Years</th>\n",
       "      <td>119.0</td>\n",
       "      <td>117.326050</td>\n",
       "      <td>127.474958</td>\n",
       "      <td>11.4</td>\n",
       "      <td>24.00</td>\n",
       "      <td>48.4</td>\n",
       "      <td>198.90</td>\n",
       "      <td>466.1</td>\n",
       "    </tr>\n",
       "    <tr>\n",
       "      <th>10-14 Years</th>\n",
       "      <td>119.0</td>\n",
       "      <td>93.769748</td>\n",
       "      <td>88.404363</td>\n",
       "      <td>13.9</td>\n",
       "      <td>27.20</td>\n",
       "      <td>44.6</td>\n",
       "      <td>158.90</td>\n",
       "      <td>375.1</td>\n",
       "    </tr>\n",
       "    <tr>\n",
       "      <th>15-19 Years</th>\n",
       "      <td>119.0</td>\n",
       "      <td>177.374790</td>\n",
       "      <td>138.362290</td>\n",
       "      <td>44.8</td>\n",
       "      <td>85.45</td>\n",
       "      <td>106.9</td>\n",
       "      <td>283.65</td>\n",
       "      <td>777.4</td>\n",
       "    </tr>\n",
       "  </tbody>\n",
       "</table>\n",
       "</div>"
      ],
      "text/plain": [
       "             count        mean         std   min    25%    50%     75%     max\n",
       "AgeGroup                                                                      \n",
       "01-04 Years  119.0  383.226050  500.454211  24.0  50.65  109.1  577.30  1983.8\n",
       "05-09 Years  119.0  117.326050  127.474958  11.4  24.00   48.4  198.90   466.1\n",
       "10-14 Years  119.0   93.769748   88.404363  13.9  27.20   44.6  158.90   375.1\n",
       "15-19 Years  119.0  177.374790  138.362290  44.8  85.45  106.9  283.65   777.4"
      ]
     },
     "execution_count": 44,
     "metadata": {},
     "output_type": "execute_result"
    }
   ],
   "source": [
    "#44\n",
    "mortality_data.groupby('AgeGroup')['DeathRate'].describe()"
   ]
  },
  {
   "cell_type": "code",
   "execution_count": 45,
   "id": "efa590bf-72a9-4ab5-a836-c8a622efe983",
   "metadata": {},
   "outputs": [
    {
     "data": {
      "text/html": [
       "<div>\n",
       "<style scoped>\n",
       "    .dataframe tbody tr th:only-of-type {\n",
       "        vertical-align: middle;\n",
       "    }\n",
       "\n",
       "    .dataframe tbody tr th {\n",
       "        vertical-align: top;\n",
       "    }\n",
       "\n",
       "    .dataframe thead tr th {\n",
       "        text-align: left;\n",
       "    }\n",
       "\n",
       "    .dataframe thead tr:last-of-type th {\n",
       "        text-align: right;\n",
       "    }\n",
       "</style>\n",
       "<table border=\"1\" class=\"dataframe\">\n",
       "  <thead>\n",
       "    <tr>\n",
       "      <th></th>\n",
       "      <th colspan=\"2\" halign=\"left\">Year</th>\n",
       "      <th colspan=\"2\" halign=\"left\">DeathRate</th>\n",
       "      <th colspan=\"2\" halign=\"left\">Mean</th>\n",
       "      <th colspan=\"2\" halign=\"left\">MeanCentered</th>\n",
       "    </tr>\n",
       "    <tr>\n",
       "      <th></th>\n",
       "      <th>mean</th>\n",
       "      <th>median</th>\n",
       "      <th>mean</th>\n",
       "      <th>median</th>\n",
       "      <th>mean</th>\n",
       "      <th>median</th>\n",
       "      <th>mean</th>\n",
       "      <th>median</th>\n",
       "    </tr>\n",
       "    <tr>\n",
       "      <th>AgeGroup</th>\n",
       "      <th></th>\n",
       "      <th></th>\n",
       "      <th></th>\n",
       "      <th></th>\n",
       "      <th></th>\n",
       "      <th></th>\n",
       "      <th></th>\n",
       "      <th></th>\n",
       "    </tr>\n",
       "  </thead>\n",
       "  <tbody>\n",
       "    <tr>\n",
       "      <th>01-04 Years</th>\n",
       "      <td>1959.0</td>\n",
       "      <td>1959.0</td>\n",
       "      <td>383.226050</td>\n",
       "      <td>109.1</td>\n",
       "      <td>192.92416</td>\n",
       "      <td>192.92416</td>\n",
       "      <td>190.301891</td>\n",
       "      <td>-83.82416</td>\n",
       "    </tr>\n",
       "    <tr>\n",
       "      <th>05-09 Years</th>\n",
       "      <td>1959.0</td>\n",
       "      <td>1959.0</td>\n",
       "      <td>117.326050</td>\n",
       "      <td>48.4</td>\n",
       "      <td>192.92416</td>\n",
       "      <td>192.92416</td>\n",
       "      <td>-75.598109</td>\n",
       "      <td>-144.52416</td>\n",
       "    </tr>\n",
       "    <tr>\n",
       "      <th>10-14 Years</th>\n",
       "      <td>1959.0</td>\n",
       "      <td>1959.0</td>\n",
       "      <td>93.769748</td>\n",
       "      <td>44.6</td>\n",
       "      <td>192.92416</td>\n",
       "      <td>192.92416</td>\n",
       "      <td>-99.154412</td>\n",
       "      <td>-148.32416</td>\n",
       "    </tr>\n",
       "    <tr>\n",
       "      <th>15-19 Years</th>\n",
       "      <td>1959.0</td>\n",
       "      <td>1959.0</td>\n",
       "      <td>177.374790</td>\n",
       "      <td>106.9</td>\n",
       "      <td>192.92416</td>\n",
       "      <td>192.92416</td>\n",
       "      <td>-15.549370</td>\n",
       "      <td>-86.02416</td>\n",
       "    </tr>\n",
       "  </tbody>\n",
       "</table>\n",
       "</div>"
      ],
      "text/plain": [
       "               Year           DeathRate              Mean             \\\n",
       "               mean  median        mean median       mean     median   \n",
       "AgeGroup                                                               \n",
       "01-04 Years  1959.0  1959.0  383.226050  109.1  192.92416  192.92416   \n",
       "05-09 Years  1959.0  1959.0  117.326050   48.4  192.92416  192.92416   \n",
       "10-14 Years  1959.0  1959.0   93.769748   44.6  192.92416  192.92416   \n",
       "15-19 Years  1959.0  1959.0  177.374790  106.9  192.92416  192.92416   \n",
       "\n",
       "            MeanCentered             \n",
       "                    mean     median  \n",
       "AgeGroup                             \n",
       "01-04 Years   190.301891  -83.82416  \n",
       "05-09 Years   -75.598109 -144.52416  \n",
       "10-14 Years   -99.154412 -148.32416  \n",
       "15-19 Years   -15.549370  -86.02416  "
      ]
     },
     "execution_count": 45,
     "metadata": {},
     "output_type": "execute_result"
    }
   ],
   "source": [
    "#45\n",
    "mortality_data.groupby('AgeGroup').agg(['mean','median'])"
   ]
  },
  {
   "cell_type": "code",
   "execution_count": 46,
   "id": "247d312e-8706-4aaa-9340-2e794ad81409",
   "metadata": {},
   "outputs": [
    {
     "data": {
      "text/html": [
       "<div>\n",
       "<style scoped>\n",
       "    .dataframe tbody tr th:only-of-type {\n",
       "        vertical-align: middle;\n",
       "    }\n",
       "\n",
       "    .dataframe tbody tr th {\n",
       "        vertical-align: top;\n",
       "    }\n",
       "\n",
       "    .dataframe thead th {\n",
       "        text-align: right;\n",
       "    }\n",
       "</style>\n",
       "<table border=\"1\" class=\"dataframe\">\n",
       "  <thead>\n",
       "    <tr style=\"text-align: right;\">\n",
       "      <th></th>\n",
       "      <th>mean</th>\n",
       "      <th>median</th>\n",
       "      <th>std</th>\n",
       "      <th>nunique</th>\n",
       "    </tr>\n",
       "    <tr>\n",
       "      <th>AgeGroup</th>\n",
       "      <th></th>\n",
       "      <th></th>\n",
       "      <th></th>\n",
       "      <th></th>\n",
       "    </tr>\n",
       "  </thead>\n",
       "  <tbody>\n",
       "    <tr>\n",
       "      <th>01-04 Years</th>\n",
       "      <td>383.226050</td>\n",
       "      <td>109.1</td>\n",
       "      <td>500.454211</td>\n",
       "      <td>117</td>\n",
       "    </tr>\n",
       "    <tr>\n",
       "      <th>05-09 Years</th>\n",
       "      <td>117.326050</td>\n",
       "      <td>48.4</td>\n",
       "      <td>127.474958</td>\n",
       "      <td>115</td>\n",
       "    </tr>\n",
       "    <tr>\n",
       "      <th>10-14 Years</th>\n",
       "      <td>93.769748</td>\n",
       "      <td>44.6</td>\n",
       "      <td>88.404363</td>\n",
       "      <td>115</td>\n",
       "    </tr>\n",
       "    <tr>\n",
       "      <th>15-19 Years</th>\n",
       "      <td>177.374790</td>\n",
       "      <td>106.9</td>\n",
       "      <td>138.362290</td>\n",
       "      <td>117</td>\n",
       "    </tr>\n",
       "  </tbody>\n",
       "</table>\n",
       "</div>"
      ],
      "text/plain": [
       "                   mean  median         std  nunique\n",
       "AgeGroup                                            \n",
       "01-04 Years  383.226050   109.1  500.454211      117\n",
       "05-09 Years  117.326050    48.4  127.474958      115\n",
       "10-14 Years   93.769748    44.6   88.404363      115\n",
       "15-19 Years  177.374790   106.9  138.362290      117"
      ]
     },
     "execution_count": 46,
     "metadata": {},
     "output_type": "execute_result"
    }
   ],
   "source": [
    "#46\n",
    "mortality_data.groupby('AgeGroup')['DeathRate'].agg(['mean','median','std','nunique'])"
   ]
  },
  {
   "cell_type": "code",
   "execution_count": 47,
   "id": "71d271ee-060a-4ce8-b18a-380e72c84c30",
   "metadata": {},
   "outputs": [
    {
     "data": {
      "text/html": [
       "<div>\n",
       "<style scoped>\n",
       "    .dataframe tbody tr th:only-of-type {\n",
       "        vertical-align: middle;\n",
       "    }\n",
       "\n",
       "    .dataframe tbody tr th {\n",
       "        vertical-align: top;\n",
       "    }\n",
       "\n",
       "    .dataframe thead th {\n",
       "        text-align: right;\n",
       "    }\n",
       "</style>\n",
       "<table border=\"1\" class=\"dataframe\">\n",
       "  <thead>\n",
       "    <tr style=\"text-align: right;\">\n",
       "      <th></th>\n",
       "      <th>mean</th>\n",
       "      <th>median</th>\n",
       "      <th>std</th>\n",
       "      <th>min</th>\n",
       "      <th>max</th>\n",
       "      <th>var</th>\n",
       "      <th>nunique</th>\n",
       "    </tr>\n",
       "    <tr>\n",
       "      <th>AgeGroup</th>\n",
       "      <th></th>\n",
       "      <th></th>\n",
       "      <th></th>\n",
       "      <th></th>\n",
       "      <th></th>\n",
       "      <th></th>\n",
       "      <th></th>\n",
       "    </tr>\n",
       "  </thead>\n",
       "  <tbody>\n",
       "    <tr>\n",
       "      <th>01-04 Years</th>\n",
       "      <td>383.226050</td>\n",
       "      <td>109.1</td>\n",
       "      <td>500.454211</td>\n",
       "      <td>24.0</td>\n",
       "      <td>1983.8</td>\n",
       "      <td>250454.417536</td>\n",
       "      <td>117</td>\n",
       "    </tr>\n",
       "    <tr>\n",
       "      <th>05-09 Years</th>\n",
       "      <td>117.326050</td>\n",
       "      <td>48.4</td>\n",
       "      <td>127.474958</td>\n",
       "      <td>11.4</td>\n",
       "      <td>466.1</td>\n",
       "      <td>16249.864824</td>\n",
       "      <td>115</td>\n",
       "    </tr>\n",
       "    <tr>\n",
       "      <th>10-14 Years</th>\n",
       "      <td>93.769748</td>\n",
       "      <td>44.6</td>\n",
       "      <td>88.404363</td>\n",
       "      <td>13.9</td>\n",
       "      <td>375.1</td>\n",
       "      <td>7815.331450</td>\n",
       "      <td>115</td>\n",
       "    </tr>\n",
       "    <tr>\n",
       "      <th>15-19 Years</th>\n",
       "      <td>177.374790</td>\n",
       "      <td>106.9</td>\n",
       "      <td>138.362290</td>\n",
       "      <td>44.8</td>\n",
       "      <td>777.4</td>\n",
       "      <td>19144.123257</td>\n",
       "      <td>117</td>\n",
       "    </tr>\n",
       "  </tbody>\n",
       "</table>\n",
       "</div>"
      ],
      "text/plain": [
       "                   mean  median         std   min     max            var  \\\n",
       "AgeGroup                                                                   \n",
       "01-04 Years  383.226050   109.1  500.454211  24.0  1983.8  250454.417536   \n",
       "05-09 Years  117.326050    48.4  127.474958  11.4   466.1   16249.864824   \n",
       "10-14 Years   93.769748    44.6   88.404363  13.9   375.1    7815.331450   \n",
       "15-19 Years  177.374790   106.9  138.362290  44.8   777.4   19144.123257   \n",
       "\n",
       "             nunique  \n",
       "AgeGroup              \n",
       "01-04 Years      117  \n",
       "05-09 Years      115  \n",
       "10-14 Years      115  \n",
       "15-19 Years      117  "
      ]
     },
     "execution_count": 47,
     "metadata": {},
     "output_type": "execute_result"
    }
   ],
   "source": [
    "#47\n",
    "mortality_data.groupby('AgeGroup')['DeathRate'].agg(['mean','median','std','min','max','var','nunique'])"
   ]
  },
  {
   "cell_type": "code",
   "execution_count": 48,
   "id": "2f8cef32-903f-4a22-9d21-090f99ae45f6",
   "metadata": {},
   "outputs": [
    {
     "data": {
      "text/plain": [
       "<Axes: xlabel='Year'>"
      ]
     },
     "execution_count": 48,
     "metadata": {},
     "output_type": "execute_result"
    },
    {
     "data": {
      "image/png": "[encoded data removed]",
      "text/plain": [
       "<Figure size 640x480 with 1 Axes>"
      ]
     },
     "metadata": {},
     "output_type": "display_data"
    }
   ],
   "source": [
    "#48\n",
    "mortality_data.pivot(index='Year',columns='AgeGroup')['DeathRate'].plot()"
   ]
  },
  {
   "cell_type": "code",
   "execution_count": 49,
   "id": "051d2972-da39-4c91-9ec0-5c5b6e6279b5",
   "metadata": {},
   "outputs": [
    {
     "data": {
      "text/html": [
       "<div>\n",
       "<style scoped>\n",
       "    .dataframe tbody tr th:only-of-type {\n",
       "        vertical-align: middle;\n",
       "    }\n",
       "\n",
       "    .dataframe tbody tr th {\n",
       "        vertical-align: top;\n",
       "    }\n",
       "\n",
       "    .dataframe thead th {\n",
       "        text-align: right;\n",
       "    }\n",
       "</style>\n",
       "<table border=\"1\" class=\"dataframe\">\n",
       "  <thead>\n",
       "    <tr style=\"text-align: right;\">\n",
       "      <th></th>\n",
       "      <th>01-04 Years</th>\n",
       "      <th>05-09 Years</th>\n",
       "      <th>10-14 Years</th>\n",
       "      <th>15-19 Years</th>\n",
       "    </tr>\n",
       "    <tr>\n",
       "      <th>Year</th>\n",
       "      <th></th>\n",
       "      <th></th>\n",
       "      <th></th>\n",
       "      <th></th>\n",
       "    </tr>\n",
       "  </thead>\n",
       "  <tbody>\n",
       "    <tr>\n",
       "      <th>1900</th>\n",
       "      <td>1983.8</td>\n",
       "      <td>466.1</td>\n",
       "      <td>298.3</td>\n",
       "      <td>484.8</td>\n",
       "    </tr>\n",
       "    <tr>\n",
       "      <th>1901</th>\n",
       "      <td>1695.0</td>\n",
       "      <td>427.6</td>\n",
       "      <td>273.6</td>\n",
       "      <td>454.4</td>\n",
       "    </tr>\n",
       "    <tr>\n",
       "      <th>1902</th>\n",
       "      <td>1655.7</td>\n",
       "      <td>403.3</td>\n",
       "      <td>252.5</td>\n",
       "      <td>421.5</td>\n",
       "    </tr>\n",
       "    <tr>\n",
       "      <th>1903</th>\n",
       "      <td>1542.1</td>\n",
       "      <td>414.7</td>\n",
       "      <td>268.2</td>\n",
       "      <td>434.1</td>\n",
       "    </tr>\n",
       "    <tr>\n",
       "      <th>1904</th>\n",
       "      <td>1591.5</td>\n",
       "      <td>425.0</td>\n",
       "      <td>305.2</td>\n",
       "      <td>471.4</td>\n",
       "    </tr>\n",
       "  </tbody>\n",
       "</table>\n",
       "</div>"
      ],
      "text/plain": [
       "      01-04 Years  05-09 Years  10-14 Years  15-19 Years\n",
       "Year                                                    \n",
       "1900       1983.8        466.1        298.3        484.8\n",
       "1901       1695.0        427.6        273.6        454.4\n",
       "1902       1655.7        403.3        252.5        421.5\n",
       "1903       1542.1        414.7        268.2        434.1\n",
       "1904       1591.5        425.0        305.2        471.4"
      ]
     },
     "execution_count": 49,
     "metadata": {},
     "output_type": "execute_result"
    }
   ],
   "source": [
    "#49\n",
    "mortality_wide = mortality_wide.set_index('Year')\n",
    "\n",
    "mortality_wide.to_pickle('mortality_wide.pkl')\n",
    "mortality_wide = pd.read_pickle('mortality_wide.pkl')\n",
    "mortality_wide.head()"
   ]
  },
  {
   "cell_type": "code",
   "execution_count": 50,
   "id": "a307b80e-5648-455a-b7a3-452f677dce0d",
   "metadata": {},
   "outputs": [
    {
     "data": {
      "text/plain": [
       "<Axes: >"
      ]
     },
     "execution_count": 50,
     "metadata": {},
     "output_type": "execute_result"
    },
    {
     "data": {
      "image/png": "[encoded data removed]",
      "text/plain": [
       "<Figure size 640x480 with 1 Axes>"
      ]
     },
     "metadata": {},
     "output_type": "display_data"
    }
   ],
   "source": [
    "#50\n",
    "mortality_wide.plot.box()"
   ]
  },
  {
   "cell_type": "code",
   "execution_count": 51,
   "id": "9b0f255b-a1ee-4960-b21b-c01861403c7a",
   "metadata": {},
   "outputs": [
    {
     "data": {
      "text/plain": [
       "<Axes: title={'center': 'DeathRate by AgeGroup'}, xlabel='Year', ylabel='Deaths per 100,000'>"
      ]
     },
     "execution_count": 51,
     "metadata": {},
     "output_type": "execute_result"
    },
    {
     "data": {
      "image/png": "[encoded data removed]",
      "text/plain": [
       "<Figure size 640x480 with 1 Axes>"
      ]
     },
     "metadata": {},
     "output_type": "display_data"
    }
   ],
   "source": [
    "#51\n",
    "mortality_wide.plot(xlabel='Year', ylabel='Deaths per 100,000', title='DeathRate by AgeGroup')"
   ]
  },
  {
   "cell_type": "code",
   "execution_count": 52,
   "id": "ae464872-3b77-4d9e-bde4-a49c86b5cae0",
   "metadata": {},
   "outputs": [
    {
     "data": {
      "text/plain": [
       "<Axes: xlabel='AgeGroup'>"
      ]
     },
     "execution_count": 52,
     "metadata": {},
     "output_type": "execute_result"
    },
    {
     "data": {
      "image/png": "[encoded data removed]",
      "text/plain": [
       "<Figure size 640x480 with 1 Axes>"
      ]
     },
     "metadata": {},
     "output_type": "display_data"
    }
   ],
   "source": [
    "#52\n",
    "mortality_data.groupby('AgeGroup')['DeathRate'].agg(['mean', 'median', 'std']).plot.bar(rot=45)"
   ]
  },
  {
   "cell_type": "code",
   "execution_count": 53,
   "id": "a6fdb2ad-b9d4-4f53-bdba-731cf5cd2770",
   "metadata": {},
   "outputs": [
    {
     "data": {
      "text/plain": [
       "<Axes: ylabel='AgeGroup'>"
      ]
     },
     "execution_count": 53,
     "metadata": {},
     "output_type": "execute_result"
    },
    {
     "data": {
      "image/png": "[encoded data removed]",
      "text/plain": [
       "<Figure size 640x480 with 1 Axes>"
      ]
     },
     "metadata": {},
     "output_type": "display_data"
    }
   ],
   "source": [
    "#53\n",
    "mortality_data.groupby('AgeGroup')['DeathRate'].agg(['mean', 'median', 'std']).plot.barh()"
   ]
  },
  {
   "cell_type": "code",
   "execution_count": 54,
   "id": "6bd879d6-eee2-4c24-afcc-425513194283",
   "metadata": {},
   "outputs": [
    {
     "data": {
      "text/plain": [
       "<Axes: ylabel='DeathRate'>"
      ]
     },
     "execution_count": 54,
     "metadata": {},
     "output_type": "execute_result"
    },
    {
     "data": {
      "image/png": "[encoded data removed]",
      "text/plain": [
       "<Figure size 640x480 with 1 Axes>"
      ]
     },
     "metadata": {},
     "output_type": "display_data"
    }
   ],
   "source": [
    "#54\n",
    "mortality_data.query('Year in (1900, 1925, 1950, 1975, 2000)').groupby('Year').DeathRate.sum().plot.pie()"
   ]
  },
  {
   "cell_type": "code",
   "execution_count": 55,
   "id": "63751a95-c820-43c4-b898-365096968a42",
   "metadata": {},
   "outputs": [
    {
     "data": {
      "text/plain": [
       "array([[<Axes: title={'center': 'Child Mortality: 01-04'}, ylabel='Year'>,\n",
       "        <Axes: title={'center': 'Child Mortality: 05-09'}, ylabel='Year'>],\n",
       "       [<Axes: title={'center': 'Child Mortality: 10-14'}, ylabel='Year'>,\n",
       "        <Axes: title={'center': 'Child Mortality: 15-19'}, ylabel='Year'>]],\n",
       "      dtype=object)"
      ]
     },
     "execution_count": 55,
     "metadata": {},
     "output_type": "execute_result"
    },
    {
     "data": {
      "image/png": "[encoded data removed]",
      "text/plain": [
       "<Figure size 800x500 with 4 Axes>"
      ]
     },
     "metadata": {},
     "output_type": "display_data"
    }
   ],
   "source": [
    "#55\n",
    "mortality_wide.query('Year in (1900, 1925, 1950, 1975, 200)').plot.barh(\n",
    "    title=['Child Mortality: 01-04', 'Child Mortality: 05-09',\n",
    "    'Child Mortality: 10-14', 'Child Mortality: 15-19'],\n",
    "    sharey=True, legend=False, subplots=True, layout=(2,2), figsize=(8,5))\n"
   ]
  },
  {
   "cell_type": "code",
   "execution_count": 58,
   "id": "b9e5a479-1143-4a3e-b39d-db55bf29dc68",
   "metadata": {},
   "outputs": [
    {
     "data": {
      "text/plain": [
       "<Axes: xlabel='Year', ylabel='DeathRate'>"
      ]
     },
     "execution_count": 58,
     "metadata": {},
     "output_type": "execute_result"
    },
    {
     "data": {
      "image/png": "[encoded data removed]",
      "text/plain": [
       "<Figure size 640x480 with 1 Axes>"
      ]
     },
     "metadata": {},
     "output_type": "display_data"
    }
   ],
   "source": [
    "#56\n",
    "mortality_data.query('AgeGroup == \"01-04 Years\"').plot.scatter(x='Year', y='DeathRate', c='Orange')"
   ]
  },
  {
   "cell_type": "code",
   "execution_count": null,
   "id": "63ad133c-3338-4783-ad18-81730bd7b6fc",
   "metadata": {},
   "outputs": [],
   "source": []
  }
 ],
 "metadata": {
  "kernelspec": {
   "display_name": "Python 3 (ipykernel)",
   "language": "python",
   "name": "python3"
  },
  "language_info": {
   "codemirror_mode": {
    "name": "ipython",
    "version": 3
   },
   "file_extension": ".py",
   "mimetype": "text/x-python",
   "name": "python",
   "nbconvert_exporter": "python",
   "pygments_lexer": "ipython3",
   "version": "3.9.16"
  }
 },
 "nbformat": 4,
 "nbformat_minor": 5
}
